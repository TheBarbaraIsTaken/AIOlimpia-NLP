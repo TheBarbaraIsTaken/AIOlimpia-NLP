{
 "cells": [
  {
   "cell_type": "markdown",
   "metadata": {},
   "source": [
    "# NLP III - Pre-trained LLM Models\n",
    "\n",
    "## Large Language Models\n",
    "\n",
    "A Language Model is a statistical or machine learning model that predicts the likelihood of a sequence of words or generates text based on learned patterns in language. The input to a language model is typically a sequence of words or tokens, and the output is either the probability distribution over the next word or the generated next word or token.\n",
    "\n",
    "A Large Language Model is a Language Model with an extremely high parameter number."
   ]
  },
  {
   "cell_type": "code",
   "execution_count": null,
   "metadata": {
    "vscode": {
     "languageId": "markdown"
    }
   },
   "outputs": [],
   "source": []
  }
 ],
 "metadata": {
  "language_info": {
   "name": "python"
  }
 },
 "nbformat": 4,
 "nbformat_minor": 2
}
