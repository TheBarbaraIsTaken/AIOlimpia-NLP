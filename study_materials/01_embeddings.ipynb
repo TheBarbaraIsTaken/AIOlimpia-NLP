{
 "cells": [
  {
   "cell_type": "markdown",
   "metadata": {},
   "source": [
    "# NLP I. - Word Embeddings\n",
    "\n",
    "Natural Language Processing is the part of artificial intelligence (AI) that enables computers to **understand, interpret, and generate human language**. It allows machines to interact with humans in a natural way. Some example for NLP tasks:\n",
    "\n",
    "* Speech recognition (e.g., voice assistants like Siri, Alexa)\n",
    "* Text analysis (e.g., sentiment analysis)\n",
    "* Machine translation (e.g., Google Translate)\n",
    "* Chatbots and virtual assistants (e.g., ChatGPT)\n",
    "* Information retrieval (e.g., search engines)\n",
    "* Summarization and text generation\n",
    "\n",
    "## 1. Text preprocessing\n",
    "\n",
    "Depending on the task (we will see examples later in `NLP III. - Text Classification`) there are several preprocessing steps that we can consider. In this section we will explore some techniques."
   ]
  },
  {
   "cell_type": "markdown",
   "metadata": {},
   "source": [
    "**Lowercasing**\n",
    "\n",
    "Convert all text to lowercase to ensure consistency (e.g., \"Dog\" -> \"dog\")"
   ]
  },
  {
   "cell_type": "code",
   "execution_count": 1,
   "metadata": {},
   "outputs": [
    {
     "data": {
      "text/plain": [
       "'the quick brown fox jumped over the lazy dog.'"
      ]
     },
     "execution_count": 1,
     "metadata": {},
     "output_type": "execute_result"
    }
   ],
   "source": [
    "text = \"The quick brown Fox jumped over the lazy dog.\"  # TODO: Ha tulajdonnevek? Előbb NER\n",
    "text.lower()"
   ]
  },
  {
   "cell_type": "markdown",
   "metadata": {},
   "source": [
    "**Tokenization**\n",
    "\n",
    "Split text into words or subwords (e.g., \"The lazy dog\" -> [\"The\", \"lazy\", \"dog\"]). Using tokens instead of whole words is often beneficial, especially in cases like:\n",
    "\n",
    "* Handle rare words: many words have prefixes, suffixes, or variations (\"running\", \"runs\", \"runner\") and some are completely out-of-vocabulary (OOV) so the model haven't seen them before during training\n",
    "* Reduce vocabulary size: e.g. Word-based: \"talking\", \"talked\", \"talks\" -> 3 separate words. Subword-based: \"talk\" + \"ing\", \"ed\", \"s\".\n"
   ]
  },
  {
   "cell_type": "code",
   "execution_count": 2,
   "metadata": {},
   "outputs": [
    {
     "name": "stderr",
     "output_type": "stream",
     "text": [
      "2025-03-16 18:43:23.545922: I tensorflow/core/util/port.cc:111] oneDNN custom operations are on. You may see slightly different numerical results due to floating-point round-off errors from different computation orders. To turn them off, set the environment variable `TF_ENABLE_ONEDNN_OPTS=0`.\n",
      "2025-03-16 18:43:23.573697: E tensorflow/compiler/xla/stream_executor/cuda/cuda_dnn.cc:9342] Unable to register cuDNN factory: Attempting to register factory for plugin cuDNN when one has already been registered\n",
      "2025-03-16 18:43:23.573775: E tensorflow/compiler/xla/stream_executor/cuda/cuda_fft.cc:609] Unable to register cuFFT factory: Attempting to register factory for plugin cuFFT when one has already been registered\n",
      "2025-03-16 18:43:23.573828: E tensorflow/compiler/xla/stream_executor/cuda/cuda_blas.cc:1518] Unable to register cuBLAS factory: Attempting to register factory for plugin cuBLAS when one has already been registered\n",
      "2025-03-16 18:43:23.580674: I tensorflow/core/platform/cpu_feature_guard.cc:182] This TensorFlow binary is optimized to use available CPU instructions in performance-critical operations.\n",
      "To enable the following instructions: AVX2 AVX_VNNI FMA, in other operations, rebuild TensorFlow with the appropriate compiler flags.\n"
     ]
    },
    {
     "data": {
      "text/plain": [
       "(The, quick, brown, fox, .)"
      ]
     },
     "execution_count": 2,
     "metadata": {},
     "output_type": "execute_result"
    }
   ],
   "source": [
    "import spacy  # NLP library\n",
    "nlp = spacy.load(\"en_core_web_sm\")\n",
    "\n",
    "doc = nlp(\"The quick brown fox jumped over the lazy dog.\")\n",
    "\n",
    "token_0 = doc[0]\n",
    "token_1 = doc[1]\n",
    "token_2 = doc[2]\n",
    "token_3 = doc[3]\n",
    "token_last = doc[-1]\n",
    "\n",
    "token_0, token_1, token_2, token_3, token_last"
   ]
  },
  {
   "cell_type": "markdown",
   "metadata": {},
   "source": [
    "Tokens are sometimes different from whole words and may not always carry a complete meaning on their own."
   ]
  },
  {
   "cell_type": "code",
   "execution_count": 3,
   "metadata": {},
   "outputs": [
    {
     "name": "stdout",
     "output_type": "stream",
     "text": [
      "[Do, n't, hesitate, ., It, is, n't, that, bad, ., It, 's, amazing, !]\n"
     ]
    }
   ],
   "source": [
    "import spacy\n",
    "nlp = spacy.load(\"en_core_web_sm\")\n",
    "\n",
    "doc = nlp(\"Don't hesitate. It isn't that bad. It's amazing!\")\n",
    "tokens = [token for token in doc]  # TODO: Show token.text\n",
    "\n",
    "print(tokens)"
   ]
  },
  {
   "cell_type": "markdown",
   "metadata": {},
   "source": [
    "The tokenizer of the BERT LMM (more details on it in `NLP IV. - Pre-trained NLP Models`)."
   ]
  },
  {
   "cell_type": "code",
   "execution_count": 4,
   "metadata": {},
   "outputs": [
    {
     "name": "stdout",
     "output_type": "stream",
     "text": [
      "['don', \"'\", 't', 'hesitate', '.', 'it', 'isn', \"'\", 't', 'that', 'bad', '.', 'it', \"'\", 's', 'amazing', '!']\n"
     ]
    }
   ],
   "source": [
    "from transformers import BertTokenizer  # Deeplearning library\n",
    "\n",
    "tokenizer = BertTokenizer.from_pretrained(\"bert-base-uncased\")\n",
    "text = \"Don't hesitate. It isn't that bad. It's amazing!\"\n",
    "\n",
    "tokens = tokenizer.tokenize(text)\n",
    "print(tokens)"
   ]
  },
  {
   "cell_type": "markdown",
   "metadata": {},
   "source": [
    "**Removing punctuation**\n",
    "\n",
    "Remove characters like .,!?; to focus on words (e.g., \"Hello!\" -> \"Hello\"). We often use Regex for this purpose.\n",
    "\n",
    "Regex (short for Regular Expressions) is a tool for pattern matching. It allows you to search, match, and manipulate strings using specific patterns. Usually used in data cleaning, text extraction, and NLP preprocessing.\n",
    "\n",
    "Basic examples:\n",
    "\n",
    "* Match specific characters: e.g. [aeiou] matches any lowercase vowel\n",
    "* Match digits: \\d\n",
    "* Match alphanumeric + underscore: \\w\n",
    "* Match whitespace: \\s\n",
    "\n",
    "[More details.](https://web.stanford.edu/~jurafsky/slp3/2.pdf)"
   ]
  },
  {
   "cell_type": "code",
   "execution_count": 5,
   "metadata": {},
   "outputs": [
    {
     "name": "stdout",
     "output_type": "stream",
     "text": [
      "['e', 'e', 'e', 'e', 'e', 'e', 'e', 'e', 'e', 'e', 'e', 'e', 'e', 'e', 'e', 'e', 'e']\n"
     ]
    }
   ],
   "source": [
    "import re  # Regular expressions\n",
    "\n",
    "text = \"\"\"Hello, my email is example@email.com!\n",
    "This is another email: example01.example.email@gmail.com. And this is another: example@inf.elte.hu\"\"\"\n",
    "\n",
    "pattern = r'e'  # TODO: Show e, email, email\\. `email_patter`\n",
    "matches = re.findall(pattern, text)\n",
    "\n",
    "# Basic pattern to match email addresses\n",
    "email_patter = r'[a-z0-9\\._]+@[a-z0-9\\.-]+\\.[a-zA-Z]{2,}'  # TODO: Show adding % to pattern and see difference\n",
    "emails = re.findall(email_patter, text)\n",
    "\n",
    "emails\n",
    "print(matches)"
   ]
  },
  {
   "cell_type": "code",
   "execution_count": 6,
   "metadata": {},
   "outputs": [
    {
     "data": {
      "text/plain": [
       "'Hello How are you'"
      ]
     },
     "execution_count": 6,
     "metadata": {},
     "output_type": "execute_result"
    }
   ],
   "source": [
    "import re\n",
    "\n",
    "text = \"Hello!!! How are you??\"\n",
    "pattern = r'[^\\w\\s]'\n",
    "re.sub(pattern, '', text)"
   ]
  },
  {
   "cell_type": "markdown",
   "metadata": {},
   "source": [
    "**Removing stopwords**\n",
    "\n",
    "Eliminate common words like \"the\", \"is\", \"and\" that don’t add much meaning. Less is sometimes more! We may lose some words but it can help to focus on the important parts."
   ]
  },
  {
   "cell_type": "code",
   "execution_count": 7,
   "metadata": {},
   "outputs": [],
   "source": [
    "try:\n",
    "    from nltk.corpus import stopwords\n",
    "    stopwords.words(\"english\")\n",
    "except LookupError:\n",
    "    import nltk\n",
    "    nltk.download('stopwords')"
   ]
  },
  {
   "cell_type": "code",
   "execution_count": 8,
   "metadata": {},
   "outputs": [
    {
     "data": {
      "text/plain": [
       "'The quick brown fox jumped lazy dog.'"
      ]
     },
     "execution_count": 8,
     "metadata": {},
     "output_type": "execute_result"
    }
   ],
   "source": [
    "# With NLTK\n",
    "from nltk.corpus import stopwords\n",
    "\n",
    "stop_words = set(stopwords.words(\"english\"))\n",
    "text = \"The quick brown fox jumped over the lazy dog.\"\n",
    "# text = text.lower()\n",
    "\n",
    "filtered_words = [word for word in text.split() if word not in stop_words]\n",
    "\" \".join(filtered_words)"
   ]
  },
  {
   "cell_type": "code",
   "execution_count": 9,
   "metadata": {},
   "outputs": [
    {
     "data": {
      "text/plain": [
       "'quick brown fox jumped lazy dog .'"
      ]
     },
     "execution_count": 9,
     "metadata": {},
     "output_type": "execute_result"
    }
   ],
   "source": [
    "# With Spacy\n",
    "import spacy\n",
    "\n",
    "nlp = spacy.load(\"en_core_web_sm\")\n",
    "doc = nlp(\"The quick brown fox jumped over the lazy dog.\")\n",
    "filtered_words = [token.text for token in doc if not token.is_stop]\n",
    "\n",
    "\" \".join(filtered_words)"
   ]
  },
  {
   "cell_type": "markdown",
   "metadata": {},
   "source": [
    "**Stemming/lemmatization**\n",
    "\n",
    "Reduce words to their root forms (e.g., \"running\" -> \"run\", \"better\" -> \"well\")"
   ]
  },
  {
   "cell_type": "code",
   "execution_count": 10,
   "metadata": {},
   "outputs": [
    {
     "name": "stdout",
     "output_type": "stream",
     "text": [
      "run\n",
      "better\n",
      "feet\n"
     ]
    }
   ],
   "source": [
    "# Stemming\n",
    "from nltk.stem import PorterStemmer\n",
    "\n",
    "stemmer = PorterStemmer()\n",
    "\n",
    "print(stemmer.stem(\"running\"))\n",
    "print(stemmer.stem(\"better\"))\n",
    "print(stemmer.stem(\"feet\"))"
   ]
  },
  {
   "cell_type": "code",
   "execution_count": 11,
   "metadata": {},
   "outputs": [
    {
     "name": "stdout",
     "output_type": "stream",
     "text": [
      "['run', 'well', 'foot']\n"
     ]
    }
   ],
   "source": [
    "# Lemmatization\n",
    "doc = nlp(\"running better feet\")\n",
    "lemmas = [token.lemma_ for token in doc]\n",
    "\n",
    "print(lemmas)"
   ]
  },
  {
   "cell_type": "markdown",
   "metadata": {},
   "source": [
    "**Spelling correction**\n",
    "\n",
    "Fix misspellings to standardize text (e.g., \"recieve\" -> \"receive\")"
   ]
  },
  {
   "cell_type": "code",
   "execution_count": 12,
   "metadata": {},
   "outputs": [
    {
     "name": "stdout",
     "output_type": "stream",
     "text": [
      "Who are you?\n",
      "To are in the house\n"
     ]
    }
   ],
   "source": [
    "from textblob import TextBlob\n",
    "\n",
    "text_1 = \"Who are yuo?\"\n",
    "text_2 = \"Yuo are in the house\"\n",
    "\n",
    "true_positive = str(TextBlob(text_1).correct())\n",
    "false_positive = str(TextBlob(text_2).correct())\n",
    "\n",
    "print(true_positive)\n",
    "print(false_positive)"
   ]
  },
  {
   "cell_type": "markdown",
   "metadata": {},
   "source": [
    "## 2. Embeddings\n",
    "\n",
    "How can computers understand human language? \n",
    "\n",
    "**Convert Words to Numbers?**\n",
    "\n",
    "1. Let's assume we have a text (usually a lot longer than this): `\"The quick brown fox jumped over the lazy dog.\"`. \n",
    "2. Normalize the text, e.g. convert to lowercase, split into smaller parts (like words): `[\"the\", \"quick\", \"brown\", \"fox\", \"jumped\", \"over\", \"the\", \"lazy\", \"dog\",  \".\"]`\n",
    "3. Collect the unique words to form the `vocabulary` of the text and give an id to each word:\n",
    "\n",
    "| Words: | brown | dog | fox | jumped | lazy | over | quick | the |  .  |\n",
    "| :----- | :---: | :-: | :-: | :----: | :--: | :--: | :-:   | :-: | :-: |\n",
    "| Ids:   | 0     | 1   | 2   | 3      | 4    | 5    | 6     | 7   | 8   |\n",
    "\n",
    "4. Now we can convert the whole text to a list of numbers:\\\n",
    "   `\"the quick brown fox jumped over the lazy dog.\"` -> `[7, 6, 0, 2, 3, 5, 7, 4, 1, 8]`\n",
    "\n",
    "\n",
    "What is the problem with this? If we want to perform mathematical operations we can't preserve semantical meaning: \\\n",
    "`\"dog\" + \"dog\" = 1 + 1 = 2 = \"fox\"` \\\n",
    "In neural networks this would lead to incorrect associations and poor learning.\n",
    "\n",
    "**Convert Words to Vectors!**\n",
    "\n",
    "The most primitive way is one-hot encoding. We get an all-zero vector, where the length of the vector equals to the length of the vocabulary (9 in this case) and at the id of the word we change the 0 to 1.\n",
    "\n",
    "```\n",
    "brown = [1, 0, 0, 0, 0, 0, 0, 0, 0]\n",
    "lazy = [0, 0, 0, 0, 1, 0, 0, 0, 0]\n",
    "```\n",
    "\n",
    "We still can't capture any semantic meaning with this kind of representation but it will be useful when we try to learn dense embeddings.\n",
    "\n",
    "<img src=\"../img/01_embeddings/vectors.png\" width=\"400\">\n",
    "\n",
    "**KING** - **MAN** + **WOMAN** = (16, 8) - (5, 14) + (7, 11) = (16-5+7, 8-14+11) = (18, 5) ≈ (17, 5) = **QUEEN**\n",
    "\n",
    "An embedding is a numerical representation of data in a lower-dimensional space, capturing meaningful relationships. A word embedding is a dense vector representation of words, where similar words have similar vector values."
   ]
  },
  {
   "cell_type": "code",
   "execution_count": 13,
   "metadata": {},
   "outputs": [
    {
     "data": {
      "text/plain": [
       "tensor([18,  5])"
      ]
     },
     "execution_count": 13,
     "metadata": {},
     "output_type": "execute_result"
    }
   ],
   "source": [
    "import torch\n",
    "\n",
    "king = torch.tensor([16, 8])\n",
    "man = torch.tensor([5, 14])\n",
    "woman = torch.tensor([7, 11])\n",
    "queen = torch.tensor([17, 5])\n",
    "\n",
    "queen_ = king - man + woman\n",
    "queen_"
   ]
  },
  {
   "cell_type": "code",
   "execution_count": 14,
   "metadata": {},
   "outputs": [
    {
     "data": {
      "text/plain": [
       "tensor([1, 0])"
      ]
     },
     "execution_count": 14,
     "metadata": {},
     "output_type": "execute_result"
    }
   ],
   "source": [
    "diff = abs(queen - queen_)\n",
    "diff"
   ]
  },
  {
   "cell_type": "markdown",
   "metadata": {},
   "source": [
    "Two common approaches to define some kind of similarity or dissimilarity between the vectors are Euclidean distance and cosine similarity."
   ]
  },
  {
   "cell_type": "code",
   "execution_count": 13,
   "metadata": {},
   "outputs": [
    {
     "name": "stderr",
     "output_type": "stream",
     "text": [
      "2025-03-16 21:38:38.592822: I tensorflow/core/util/port.cc:111] oneDNN custom operations are on. You may see slightly different numerical results due to floating-point round-off errors from different computation orders. To turn them off, set the environment variable `TF_ENABLE_ONEDNN_OPTS=0`.\n",
      "2025-03-16 21:38:38.618020: E tensorflow/compiler/xla/stream_executor/cuda/cuda_dnn.cc:9342] Unable to register cuDNN factory: Attempting to register factory for plugin cuDNN when one has already been registered\n",
      "2025-03-16 21:38:38.618054: E tensorflow/compiler/xla/stream_executor/cuda/cuda_fft.cc:609] Unable to register cuFFT factory: Attempting to register factory for plugin cuFFT when one has already been registered\n",
      "2025-03-16 21:38:38.618165: E tensorflow/compiler/xla/stream_executor/cuda/cuda_blas.cc:1518] Unable to register cuBLAS factory: Attempting to register factory for plugin cuBLAS when one has already been registered\n",
      "2025-03-16 21:38:38.623150: I tensorflow/core/platform/cpu_feature_guard.cc:182] This TensorFlow binary is optimized to use available CPU instructions in performance-critical operations.\n",
      "To enable the following instructions: AVX2 AVX_VNNI FMA, in other operations, rebuild TensorFlow with the appropriate compiler flags.\n"
     ]
    },
    {
     "name": "stdout",
     "output_type": "stream",
     "text": [
      "fox\n",
      "(96,)\n"
     ]
    },
    {
     "data": {
      "text/plain": [
       "array([ 0.00406499, -0.35175443, -0.18060684,  0.51963633,  0.73808855,\n",
       "        0.5136386 ,  2.8315334 ,  0.534479  ,  0.09457049, -0.50143874],\n",
       "      dtype=float32)"
      ]
     },
     "execution_count": 13,
     "metadata": {},
     "output_type": "execute_result"
    }
   ],
   "source": [
    "import spacy\n",
    "\n",
    "nlp = spacy.load(\"en_core_web_sm\")\n",
    "doc = nlp(\"The quick brown fox jumped over the lazy dog.\")\n",
    "\n",
    "fox = doc[3]\n",
    "dog = doc[8]\n",
    "quick = doc[1]\n",
    "\n",
    "print(fox.text)\n",
    "print(fox.vector.shape)\n",
    "\n",
    "fox.vector[:10]"
   ]
  },
  {
   "cell_type": "markdown",
   "metadata": {},
   "source": [
    "**Euclidean Distance** measures the straight-line distance between two points. A smaller Euclidean distance indicates greater similarity, while a larger distance suggests more dissimilarity. It is computed as:\n",
    "\n",
    "$d_{\\text{euclidean}}(\\mathbf{A}, \\mathbf{B}) = \\sqrt{\\sum_{i=1}^{n} (A_i - B_i)^2} = \\| \\mathbf{A} - \\mathbf{B} \\|_2$"
   ]
  },
  {
   "cell_type": "code",
   "execution_count": 14,
   "metadata": {},
   "outputs": [
    {
     "name": "stdout",
     "output_type": "stream",
     "text": [
      "6.686166790843649\n",
      "10.18951208921266\n",
      "9.204851645911639\n"
     ]
    }
   ],
   "source": [
    "import torch\n",
    "import numpy as np\n",
    "\n",
    "def euclidean_distance(A: torch.Tensor | np.ndarray, B: torch.Tensor | np.ndarray) -> float:\n",
    "    tmp = (A - B)**2\n",
    "    return tmp.sum()**0.5\n",
    "\n",
    "print(euclidean_distance(fox.vector, dog.vector))\n",
    "print(euclidean_distance(quick.vector, dog.vector))\n",
    "print(euclidean_distance(fox.vector, quick.vector))"
   ]
  },
  {
   "cell_type": "markdown",
   "metadata": {},
   "source": [
    "**Cosine Similarity**, on the other hand, measures the angle between two vectors. It ranges from **-1 (opposite directions)** to **1 (identical directions)**, with **0 indicating orthogonality (no similarity)**. It is calculated as:  \n",
    "\n",
    "$\\text{sim}_{\\cos}(\\mathbf{A}, \\mathbf{B}) = \\frac{\\mathbf{A} \\cdot \\mathbf{B}}{\\|\\mathbf{A}\\|_2 \\, \\|\\mathbf{B}\\|_2}$  \n",
    "\n",
    "where $\\mathbf{A} \\cdot \\mathbf{B}$ is the dot-product of the two vectors. This is the more common method."
   ]
  },
  {
   "cell_type": "code",
   "execution_count": null,
   "metadata": {},
   "outputs": [
    {
     "name": "stdout",
     "output_type": "stream",
     "text": [
      "0.5557672644400622\n",
      "0.08589619160309067\n",
      "0.2363222884469598\n"
     ]
    }
   ],
   "source": [
    "import torch\n",
    "import numpy as np\n",
    "\n",
    "def cosine_similarity(A: torch.Tensor | np.ndarray, B: torch.Tensor | np.ndarray) -> float:\n",
    "    A_len = (A * A).sum()**0.5\n",
    "    B_len = (B * B).sum()**0.5\n",
    "\n",
    "    dot_product = (A * B).sum()\n",
    "    sim = dot_product / (A_len * B_len)\n",
    "    \n",
    "    return sim.item() if isinstance(sim, torch.Tensor) else sim\n",
    "\n",
    "print(cosine_similarity(fox.vector, dog.vector))\n",
    "print(cosine_similarity(quick.vector, dog.vector))\n",
    "print(cosine_similarity(fox.vector, quick.vector))"
   ]
  },
  {
   "cell_type": "code",
   "execution_count": 18,
   "metadata": {},
   "outputs": [
    {
     "name": "stdout",
     "output_type": "stream",
     "text": [
      "0.9842711687088013\n",
      "0.7219881415367126\n"
     ]
    }
   ],
   "source": [
    "import torch\n",
    "\n",
    "king = torch.tensor([16, 8])\n",
    "man = torch.tensor([5, 14])\n",
    "woman = torch.tensor([7, 11])\n",
    "queen = torch.tensor([17, 5])\n",
    "\n",
    "print(cosine_similarity(king, queen))\n",
    "print(cosine_similarity(king, man))"
   ]
  },
  {
   "cell_type": "markdown",
   "metadata": {},
   "source": [
    "## 3. Methods to Learn Embeddings\n",
    "\n",
    "**Word2Vec**\n",
    "\n",
    "In Word2Vec we use neural networks (NN) to learn word embeddings. We assume that similar words occur in similar contexts (the surrounding words) this is what we will use during the training. There are two approaches for the training: \n",
    "\n",
    "**Skip-Gram**: predict a word's context from the target word\n",
    "* Training dataset: We form pairs of (target, context) words for each words in the text and for each surrounding words ($\\pm$ window size) in the context window.\n",
    "* The input of the network is a word in the one-hot encoded form of the target word.\n",
    "* The output layer is a probability distribution over the vocabulary.\n",
    "* The label is the one-hot encoded vector of the context word.\n",
    "* In the NN there is one hidden layer this will be our learned embeddings so it has the size of the desired embedding dimension.\n",
    "\n",
    "<img src=\"../img/01_embeddings/skipgram.png\" width=\"400\">"
   ]
  },
  {
   "cell_type": "markdown",
   "metadata": {},
   "source": [
    "### Dataset"
   ]
  },
  {
   "cell_type": "code",
   "execution_count": 2,
   "metadata": {},
   "outputs": [],
   "source": [
    "import re\n",
    "from collections import Counter\n",
    "from nltk.corpus import stopwords\n",
    "\n",
    "\n",
    "class SkipGramDataCreator:\n",
    "    def __init__(self, text_path: str, window_size: int, threshold: int = 4) -> None:\n",
    "        \"\"\"\n",
    "        \n",
    "        \"\"\"\n",
    "        self.text_path = text_path\n",
    "        self.window_size = window_size\n",
    "        self.threshold = threshold\n",
    "\n",
    "        self.unk = \"<UNK>\"\n",
    "        self.stopwords = set(stopwords.words(\"english\"))\n",
    "\n",
    "        # Read data\n",
    "        with open(self.text_path, 'r') as file:\n",
    "            self.text = file.read().strip()\n",
    "\n",
    "        # Preprocess data\n",
    "        self.tokens = self.preprocess_text(self.text)\n",
    "        self.length = len(self.tokens)\n",
    "\n",
    "        # Vocabulary\n",
    "        # Keep only those words for the vocabulary that occur at least `threshold` times\n",
    "        frequencies = Counter(self.tokens)\n",
    "        self.vocab = {}\n",
    "\n",
    "        id = 0\n",
    "        for word, freq in frequencies.items():\n",
    "            if freq >= self.threshold:\n",
    "                self.vocab[word] = id\n",
    "                id += 1\n",
    "\n",
    "        self.vocab[self.unk] = len(self.vocab)\n",
    "\n",
    "        self.reverse_vocab = {i: word for word, i in self.vocab.items()}\n",
    "        self.unk_id = self.vocab[self.unk]\n",
    "\n",
    "        self.token_ids = [self.vocab.get(token, self.unk_id) for token in self.tokens]\n",
    "    \n",
    "    def preprocess_text(self, text: str) -> list[str]:\n",
    "        text = text.lower()\n",
    "        text = re.sub(r'[^a-z\\s]', '', text)  # Remove punctuation and non-alphabetical characters\n",
    "        tokens = text.split()  # We could use a more sophisticated tokenizer instead\n",
    "\n",
    "        tokens = [token for token in tokens if token not in self.stopwords]\n",
    "\n",
    "        return tokens\n",
    "    \n",
    "    def get_pairs(self) -> torch.Tensor:\n",
    "        context_pairs = []\n",
    "\n",
    "        for target_inx, target_id in enumerate(self.token_ids):\n",
    "            context = [\n",
    "                self.vocab.get(self.tokens[j], self.unk_id) for j in self.get_range(target_inx)\n",
    "                if j != target_inx  # Don't include the target itself\n",
    "            ]\n",
    "            \n",
    "            context_pairs.extend([(target_id, context_ids) for context_ids in context])\n",
    "        \n",
    "        return torch.tensor(context_pairs)\n",
    "\n",
    "    def get_range(self, i: int) -> range:\n",
    "        \"\"\"\n",
    "        returns: The index list of surrounding tokens including the target index\n",
    "        \"\"\"\n",
    "        lower = max(0, i - self.window_size)\n",
    "        upper = min(self.length-1, i + self.window_size)\n",
    "\n",
    "        return range(lower, upper+1)\n",
    "    \n",
    "    def get_vocab_size(self) -> int:\n",
    "        return len(self.vocab)\n"
   ]
  },
  {
   "cell_type": "code",
   "execution_count": 4,
   "metadata": {},
   "outputs": [],
   "source": [
    "import os\n",
    "\n",
    "text_path = os.path.join(\"..\", \"data\", \"shakespeare.txt\")  # Shakespeare: THE TRAGEDY OF ROMEO AND JULIET "
   ]
  },
  {
   "cell_type": "code",
   "execution_count": 5,
   "metadata": {},
   "outputs": [],
   "source": [
    "from torch.utils.data import DataLoader\n",
    "\n",
    "data_creator = SkipGramDataCreator(text_path, window_size=3, threshold=4)\n",
    "dataset = data_creator.get_pairs()\n",
    "\n",
    "batch_size = len(dataset)\n",
    "dataloader = DataLoader(dataset, batch_size=batch_size, shuffle=True)"
   ]
  },
  {
   "cell_type": "markdown",
   "metadata": {},
   "source": [
    "### Skip-Gram Model"
   ]
  },
  {
   "cell_type": "code",
   "execution_count": 6,
   "metadata": {},
   "outputs": [],
   "source": [
    "import torch.nn as nn\n",
    "\n",
    "class SkipGramModel(nn.Module):\n",
    "    def __init__(self, vocab_size, embedding_dim):\n",
    "        super(SkipGramModel, self).__init__()\n",
    "        vocab_size = vocab_size\n",
    "        self.word_embeddings = nn.Embedding(vocab_size, embedding_dim)\n",
    "        self.output_layer = nn.Linear(embedding_dim, vocab_size)\n",
    "\n",
    "    def forward(self, input_ids):\n",
    "        embedded = self.word_embeddings(input_ids)\n",
    "        hidden = self.output_layer(embedded)\n",
    "        # TODO: No softmax here because of CrossEntropy\n",
    "\n",
    "        return hidden\n"
   ]
  },
  {
   "cell_type": "markdown",
   "metadata": {},
   "source": [
    "### Training"
   ]
  },
  {
   "cell_type": "code",
   "execution_count": 7,
   "metadata": {},
   "outputs": [
    {
     "name": "stdout",
     "output_type": "stream",
     "text": [
      "Epoch 10/100, Loss: 5.042764186859131\n",
      "Epoch 20/100, Loss: 4.856534957885742\n",
      "Epoch 30/100, Loss: 4.7528181076049805\n",
      "Epoch 40/100, Loss: 4.690615177154541\n",
      "Epoch 50/100, Loss: 4.652451038360596\n",
      "Epoch 60/100, Loss: 4.628993988037109\n",
      "Epoch 70/100, Loss: 4.613498210906982\n",
      "Epoch 80/100, Loss: 4.602985382080078\n",
      "Epoch 90/100, Loss: 4.595461845397949\n",
      "Epoch 100/100, Loss: 4.589747428894043\n"
     ]
    }
   ],
   "source": [
    "import torch.optim as optim\n",
    "\n",
    "embedding_dim = 10\n",
    "\n",
    "model = SkipGramModel(\n",
    "    vocab_size=data_creator.get_vocab_size(), \n",
    "    embedding_dim=embedding_dim\n",
    "    )\n",
    "\n",
    "# Loss and optimizer\n",
    "loss_fn = nn.CrossEntropyLoss()\n",
    "optimizer = optim.Adam(model.parameters(), lr=0.1)\n",
    "\n",
    "# Training loop\n",
    "epochs = 100\n",
    "model.train()\n",
    "for epoch in range(epochs):\n",
    "    for batch in dataloader:\n",
    "        model.zero_grad()\n",
    "\n",
    "        inputs = batch[:, 0]\n",
    "        labels = batch[:, 1]\n",
    "\n",
    "        outputs = model(inputs)\n",
    "        loss = loss_fn(outputs, labels)\n",
    "\n",
    "        loss.backward()\n",
    "        optimizer.step()\n",
    "\n",
    "    if (epoch + 1) % 10 == 0:\n",
    "        print(f\"Epoch {epoch + 1}/{epochs}, Loss: {loss.item()}\")\n"
   ]
  },
  {
   "cell_type": "markdown",
   "metadata": {},
   "source": [
    "### Results"
   ]
  },
  {
   "cell_type": "code",
   "execution_count": 9,
   "metadata": {},
   "outputs": [],
   "source": [
    "def get_embedding(word, vocab, model):\n",
    "    if word in vocab:\n",
    "        idx = torch.tensor(vocab[word])\n",
    "        return model.word_embeddings(idx).detach().cpu().numpy()\n",
    "    else:\n",
    "        return None\n",
    "\n",
    "romeo_vector = get_embedding(\"romeo\", data_creator.vocab, model)\n",
    "juliet_vector = get_embedding(\"juliet\", data_creator.vocab, model)\n",
    "montague_vector = get_embedding(\"montague\", data_creator.vocab, model)\n",
    "capulet_vector = get_embedding(\"capulet\", data_creator.vocab, model)\n",
    "house_vector = get_embedding(\"house\", data_creator.vocab, model)\n",
    "\n",
    "\n",
    "vectors = [\n",
    "    romeo_vector,\n",
    "    juliet_vector,\n",
    "    montague_vector,\n",
    "    capulet_vector,\n",
    "    house_vector\n",
    "]\n",
    "\n",
    "labels = [\n",
    "    \"romeo\",\n",
    "    \"juliet\",\n",
    "    \"montague\",\n",
    "    \"capulet\",\n",
    "    \"house\"\n",
    "]\n"
   ]
  },
  {
   "cell_type": "code",
   "execution_count": 10,
   "metadata": {},
   "outputs": [],
   "source": [
    "import matplotlib.pyplot as plt\n",
    "import seaborn as sns\n",
    "\n",
    "\n",
    "def plot_similarities(vectors):\n",
    "    # Compute similarities\n",
    "    similarities = []\n",
    "\n",
    "    for v1 in vectors:\n",
    "        tmp = []\n",
    "        for v2 in vectors:\n",
    "            similarity = cosine_similarity(v1, v2)\n",
    "            tmp.append(round(similarity, 2))\n",
    "\n",
    "        similarities.append(tmp)\n",
    "\n",
    "    # Plot matrix\n",
    "    plt.figure(figsize=(6, 5))\n",
    "    sns.heatmap(similarities, annot=True, cmap=\"Blues\", xticklabels=labels, yticklabels=labels)\n",
    "    plt.title(\"Cosine Similarity Scores\")\n",
    "    plt.show()"
   ]
  },
  {
   "cell_type": "code",
   "execution_count": 16,
   "metadata": {},
   "outputs": [
    {
     "data": {
      "image/png": "[encoded data removed]",
      "text/plain": [
       "<Figure size 600x500 with 2 Axes>"
      ]
     },
     "metadata": {},
     "output_type": "display_data"
    }
   ],
   "source": [
    "plot_similarities(vectors)"
   ]
  },
  {
   "cell_type": "markdown",
   "metadata": {},
   "source": [
    "Skip-Gram has another variation, **skip-gram with negative sampling (SGNS)**:\n",
    "\n",
    "1. Treat the target word and the neighboring context words as positive examples.\n",
    "2. Randomly sample other words from the vocabulary to get negative samples.\n",
    "3. Train a binary classifier to distinguish those two cases (labels: positive, negative).\n",
    "4. Use the learned weights as the embeddings.\n",
    "\n",
    "[source](https://web.stanford.edu/~jurafsky/slp3/6.pdf)"
   ]
  },
  {
   "cell_type": "markdown",
   "metadata": {},
   "source": [
    "**Continuous Bag of Words (CBOW)**: predicts the target word using the context.\n",
    "\n",
    "Similar to Skip-Gram. The input of the model consists of the context words: we sum the one-hot encoded vectors of the context words to encode the whole context e.g.\n",
    "\n",
    "The target word is \"fox\" and the window size is 2:\n",
    "\n",
    "```\n",
    "text = \"the quick brown fox jumped over the lazy dog.\"\n",
    "context_1 = [1, 0, 0, 0, 0, 0, 0, 0, 0]\n",
    "context_2 = [0, 1, 0, 0, 0, 0, 0, 0, 0]\n",
    "context_3 = [0, 0, 0, 1, 0, 0, 0, 0, 0]\n",
    "context_4 = [0, 0, 0, 0, 1, 0, 0, 0, 0]\n",
    "\n",
    "input = [1, 1, 0, 1, 1, 0, 0, 0, 0]\n",
    "```\n",
    "\n",
    "Then we try to predict the target word from it. Notice that this way we lose the positional information of the context, this is why we call it a bag of words."
   ]
  },
  {
   "cell_type": "markdown",
   "metadata": {},
   "source": [
    "**GloVe (Global Vectors for Word Representation)**\n",
    "\n",
    "GloVE, just like word2vec is a method to produce dense word embeddings. The two approaches are quite similar:\n",
    "\n",
    "1. Build a word co-occurrence matrix $X$:\n",
    "     - Count how often words appear near each other in a context window (e.g., 3 words before & after). Here $X_{ij}$ represents how often word $i$ appears near word $j$ in the training text.\n",
    "2. Factorize the matrix:\n",
    "     - The goal is to find word vectors that approximate our matrix. If $w_i$ is the embedding vector for word $i$ and $w_j$ is the embedding vector for word $j$, then we want to find $w_i$ and $w_j$ vectors for each word $w_i^Tw_j\\approx \\log{X_{ij}}$.\n",
    "     - Using logarithm helps normalize large count values.\n",
    "3. Train with a loss function:\n",
    "     - Use a weighted least-squares loss to optimize word embeddings."
   ]
  },
  {
   "cell_type": "markdown",
   "metadata": {},
   "source": [
    "### Dataset"
   ]
  },
  {
   "cell_type": "code",
   "execution_count": null,
   "metadata": {},
   "outputs": [],
   "source": [
    "import torch\n",
    "import torch.nn as nn\n",
    "import torch.optim as optim\n",
    "import numpy as np\n",
    "from collections import Counter\n",
    "\n",
    "\n",
    "def build_cooccurrence_matrix(corpus, vocab_size=1000, window_size=2):\n",
    "    words = corpus.split()\n",
    "    word_counts = Counter(words)\n",
    "    vocab = {word: i for i, (word, _) in enumerate(word_counts.most_common(vocab_size))}\n",
    "    \n",
    "    co_matrix = np.zeros((vocab_size, vocab_size))\n",
    "    \n",
    "    for i, word in enumerate(words):\n",
    "        if word not in vocab:\n",
    "            continue\n",
    "        word_idx = vocab[word]\n",
    "        for j in range(1, window_size + 1):\n",
    "            if i - j >= 0 and words[i - j] in vocab:\n",
    "                left_word_idx = vocab[words[i - j]]\n",
    "                co_matrix[word_idx, left_word_idx] += 1\n",
    "                co_matrix[left_word_idx, word_idx] += 1  # Symmetric\n",
    "            if i + j < len(words) and words[i + j] in vocab:\n",
    "                right_word_idx = vocab[words[i + j]]\n",
    "                co_matrix[word_idx, right_word_idx] += 1\n",
    "                co_matrix[right_word_idx, word_idx] += 1\n",
    "    return co_matrix, vocab\n",
    "\n",
    "text = data_creator.text.lower()\n",
    "co_matrix, vocab = build_cooccurrence_matrix(text, vocab_size=700, window_size=3)\n",
    "\n",
    "# Convert co-occurrence matrix to a tensor\n",
    "X = torch.tensor(co_matrix, dtype=torch.float32)"
   ]
  },
  {
   "cell_type": "markdown",
   "metadata": {},
   "source": [
    "### GloveModel"
   ]
  },
  {
   "cell_type": "code",
   "execution_count": 71,
   "metadata": {},
   "outputs": [],
   "source": [
    "class GloveModel(nn.Module):\n",
    "    def __init__(self, vocab_size, embedding_dim):\n",
    "        super(GloveModel, self).__init__()\n",
    "        self.word_embeddings = nn.Embedding(vocab_size, embedding_dim)\n",
    "        self.word_biases = nn.Embedding(vocab_size, 1)\n",
    "\n",
    "        nn.init.xavier_uniform_(self.word_embeddings.weight)\n",
    "        nn.init.zeros_(self.word_biases.weight)\n",
    "\n",
    "        self.x_max = 100\n",
    "        self.alpha = 3/4\n",
    "\n",
    "    def forward(self, word_idx, context_idx, cooccurrence):\n",
    "        w_i = self.word_embeddings(word_idx)\n",
    "        w_j = self.word_embeddings(context_idx)\n",
    "        b_i = self.word_biases(word_idx).squeeze()\n",
    "        b_j = self.word_biases(context_idx).squeeze()\n",
    "\n",
    "        # count weight factor\n",
    "        weight_factor = torch.pow(cooccurrence / self.x_max, self.alpha)\n",
    "        weight_factor[cooccurrence >= self.x_max] = 1\n",
    "\n",
    "        embedding_products = torch.sum(w_i * w_j, dim=1)\n",
    "        log_cooccurrences = torch.log(cooccurrence)\n",
    "\n",
    "        distance_expr = (embedding_products + b_i + b_j - log_cooccurrences) ** 2\n",
    "\n",
    "        single_losses = weight_factor * distance_expr\n",
    "        sum_loss = torch.sum(single_losses)\n",
    "        \n",
    "        return sum_loss\n"
   ]
  },
  {
   "cell_type": "markdown",
   "metadata": {},
   "source": [
    "### Train"
   ]
  },
  {
   "cell_type": "code",
   "execution_count": 80,
   "metadata": {},
   "outputs": [
    {
     "name": "stdout",
     "output_type": "stream",
     "text": [
      "Epoch 100/3000, Loss: 742.3696\n",
      "Epoch 200/3000, Loss: 540.4493\n",
      "Epoch 300/3000, Loss: 451.5533\n",
      "Epoch 400/3000, Loss: 419.7794\n",
      "Epoch 500/3000, Loss: 406.4346\n",
      "Epoch 600/3000, Loss: 399.2756\n",
      "Epoch 700/3000, Loss: 394.8073\n",
      "Epoch 800/3000, Loss: 391.6045\n",
      "Epoch 900/3000, Loss: 389.1096\n",
      "Epoch 1000/3000, Loss: 387.0300\n",
      "Epoch 1100/3000, Loss: 385.2926\n",
      "Epoch 1200/3000, Loss: 383.8735\n",
      "Epoch 1300/3000, Loss: 382.7365\n",
      "Epoch 1400/3000, Loss: 381.8520\n",
      "Epoch 1500/3000, Loss: 381.2031\n",
      "Epoch 1600/3000, Loss: 380.7370\n",
      "Epoch 1700/3000, Loss: 380.3843\n",
      "Epoch 1800/3000, Loss: 380.0872\n",
      "Epoch 1900/3000, Loss: 379.8094\n",
      "Epoch 2000/3000, Loss: 379.5425\n",
      "Epoch 2100/3000, Loss: 379.2983\n",
      "Epoch 2200/3000, Loss: 379.0747\n",
      "Epoch 2300/3000, Loss: 378.8663\n",
      "Epoch 2400/3000, Loss: 378.6709\n",
      "Epoch 2500/3000, Loss: 378.4887\n",
      "Epoch 2600/3000, Loss: 378.3258\n",
      "Epoch 2700/3000, Loss: 378.1803\n",
      "Epoch 2800/3000, Loss: 378.0537\n",
      "Epoch 2900/3000, Loss: 377.9504\n",
      "Epoch 3000/3000, Loss: 377.8652\n"
     ]
    }
   ],
   "source": [
    "glove_model = GloveModel(len(vocab), embedding_dim)\n",
    "optimizer = optim.Adam(glove_model.parameters(), lr=0.01)\n",
    "\n",
    "word_idx, context_idx = torch.nonzero(X, as_tuple=True)\n",
    "cooccurrence = X[word_idx, context_idx]\n",
    "\n",
    "epochs = 3000\n",
    "for epoch in range(epochs):\n",
    "    optimizer.zero_grad()\n",
    "    loss = glove_model(word_idx, context_idx, cooccurrence)\n",
    "    loss.backward()\n",
    "    optimizer.step()\n",
    "\n",
    "    if (epoch+1) % 100 == 0:\n",
    "        print(f\"Epoch {epoch+1}/{epochs}, Loss: {loss.item():.4f}\")"
   ]
  },
  {
   "cell_type": "markdown",
   "metadata": {},
   "source": [
    "### Results"
   ]
  },
  {
   "cell_type": "code",
   "execution_count": 81,
   "metadata": {},
   "outputs": [],
   "source": [
    "romeo_vector = get_embedding(\"romeo\", vocab, glove_model)\n",
    "juliet_vector = get_embedding(\"juliet\", vocab, glove_model)\n",
    "montague_vector = get_embedding(\"montague\", vocab, glove_model)\n",
    "capulet_vector = get_embedding(\"capulet\", vocab, glove_model)\n",
    "house_vector = get_embedding(\"house\", vocab, glove_model)\n",
    "\n",
    "vectors = [\n",
    "    romeo_vector,\n",
    "    juliet_vector,\n",
    "    montague_vector,\n",
    "    capulet_vector,\n",
    "    house_vector\n",
    "]\n",
    "\n",
    "labels = [\n",
    "    \"romeo\",\n",
    "    \"juliet\",\n",
    "    \"montague\",\n",
    "    \"capulet\",\n",
    "    \"house\"\n",
    "]\n"
   ]
  },
  {
   "cell_type": "code",
   "execution_count": 82,
   "metadata": {},
   "outputs": [
    {
     "data": {
      "image/png": "[encoded data removed]",
      "text/plain": [
       "<Figure size 600x500 with 2 Axes>"
      ]
     },
     "metadata": {},
     "output_type": "display_data"
    }
   ],
   "source": [
    "plot_similarities(vectors)"
   ]
  },
  {
   "cell_type": "code",
   "execution_count": null,
   "metadata": {},
   "outputs": [],
   "source": []
  }
 ],
 "metadata": {
  "kernelspec": {
   "display_name": "Python 3",
   "language": "python",
   "name": "python3"
  },
  "language_info": {
   "codemirror_mode": {
    "name": "ipython",
    "version": 3
   },
   "file_extension": ".py",
   "mimetype": "text/x-python",
   "name": "python",
   "nbconvert_exporter": "python",
   "pygments_lexer": "ipython3",
   "version": "3.10.12"
  }
 },
 "nbformat": 4,
 "nbformat_minor": 2
}
