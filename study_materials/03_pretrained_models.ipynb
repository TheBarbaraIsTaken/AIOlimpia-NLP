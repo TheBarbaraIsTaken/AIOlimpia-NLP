{
 "cells": [
  {
   "cell_type": "markdown",
   "metadata": {},
   "source": [
    "# NLP III - Pre-trained LLM Models\n",
    "\n",
    "## Large Language Models\n",
    "\n",
    "A Language Model is a statistical or machine learning model that predicts the likelihood of a sequence of words or generates text based on learned patterns in language. The input to a language model is typically a sequence of words or tokens, and the output is either the probability distribution over the next word or the generated next word or token.\n",
    "\n",
    "A Large Language Model is a Language Model with an extremely high parameter number.\n",
    "\n",
    "<img src=\"../img/02_transformer_basics/transformer_architecture.png\" width=\"400\">\n"
   ]
  },
  {
   "cell_type": "markdown",
   "metadata": {},
   "source": [
    "## Encoder vs Decoder\n",
    "\n",
    "What are the differences?\n",
    "\n",
    "* Attention mask"
   ]
  },
  {
   "cell_type": "markdown",
   "metadata": {},
   "source": [
    "## Encoder-only architecture\n",
    "\n"
   ]
  },
  {
   "cell_type": "code",
   "execution_count": null,
   "metadata": {},
   "outputs": [],
   "source": []
  }
 ],
 "metadata": {
  "kernelspec": {
   "display_name": "Python 3",
   "language": "python",
   "name": "python3"
  },
  "language_info": {
   "codemirror_mode": {
    "name": "ipython",
    "version": 3
   },
   "file_extension": ".py",
   "mimetype": "text/x-python",
   "name": "python",
   "nbconvert_exporter": "python",
   "pygments_lexer": "ipython3",
   "version": "3.10.12"
  }
 },
 "nbformat": 4,
 "nbformat_minor": 2
}
