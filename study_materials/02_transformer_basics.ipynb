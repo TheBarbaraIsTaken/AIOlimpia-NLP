{
  "cells": [
    {
      "cell_type": "markdown",
      "metadata": {
        "id": "GakSUQeFDp_6"
      },
      "source": [
        "# NLP II. - Transformer Basics\n",
        "## Sequence to Sequence\n",
        "\n",
        "Sometimes we want to process sequential data: the elements of the sequence has temporal information, that is the order of the input matters.\n",
        "\n",
        "<img src=\"../img/02_transformer_basics/seq2seq.png\" width=\"800\">\n",
        "\n",
        "[source](https://karpathy.github.io/2015/05/21/rnn-effectiveness/)"
      ]
    },
    {
      "cell_type": "markdown",
      "metadata": {
        "id": "wambHcCaDp_9"
      },
      "source": [
        "## Transformer\n",
        "\n",
        "The Transformer is a Deeplearning model architecture from 2017, originally designed for language translation. It consists of two parts:\n",
        "* The Encoder\n",
        "  * inputs the tokenized source language text and\n",
        "  * produces a vector representation of the whole input text (it can be considered as a text embedding, notice that so far we only considered the embedding of words separately, not whole texts).\n",
        "* The Decoder\n",
        "  * inputs the embedding of the input text and the tokenized first few words of the translated sentence and\n",
        "  * outputs a probability distribution over the target language vocabulary to predict the next word (token) of the translated sentence.\n",
        "    * It means that it is an auto-regressive model, that is to generate the whole sentence we have to feed the previous output and use it to generate the next word. The generation stops when we reach a maximum length or the generated token is the \\<EOS\\> flag (End Of Sentence). To start the generation we first feed the \\<SOS\\> (Start Of Sentence) special token, so we don't have to guess the first word of the sentence. In the tokenized training data we also add a \\<SOS\\> and an \\<EOS\\> token to the start and the end of each sentence.\n",
        "\n",
        "<img src=\"../img/02_transformer_basics/transformer_architecture.png\" width=\"400\">\n",
        "\n"
      ]
    },
    {
      "cell_type": "markdown",
      "metadata": {
        "id": "Gb6HIZRqDp__"
      },
      "source": [
        "### Embeddings\n",
        "\n",
        "The first component of the model is the embedding layer to encode the tokens. During the training it will learn it's own embeddings for each token, we don't use pre-trained embeddings (that's why the input is simply the embedding tokens)."
      ]
    },
    {
      "cell_type": "markdown",
      "metadata": {
        "id": "mfTY7jccDp__"
      },
      "source": [
        "### Projection and Softmax\n",
        "\n",
        "We use a linear layer at the end to transform the output of the previous hidden layer (we call this the dimension of the transformer model) to the dimension of the vocabulary, we call these the `logits`. Then we use the Softmax function to convert the logits to a probability distribution.\n",
        "\n",
        "<img src=\"../img/02_transformer_basics/softmax.png\" height=\"300\">\n",
        "<img src=\"../img/02_transformer_basics/exp.png\" height=\"300\">"
      ]
    },
    {
      "cell_type": "code",
      "execution_count": null,
      "metadata": {
        "id": "TjI-TBeODqAA"
      },
      "outputs": [],
      "source": [
        "import torch\n",
        "\n",
        "def softmax(logits: torch.Tensor) -> torch.Tensor:\n",
        "    norm = (torch.exp(logits)).sum(dim=1)\n",
        "    norm = norm.unsqueeze(dim=1)\n",
        "\n",
        "    probabilities = torch.exp(logits) / norm\n",
        "\n",
        "    return torch.round(probabilities, decimals=2)"
      ]
    },
    {
      "cell_type": "code",
      "execution_count": null,
      "metadata": {
        "id": "fRRVgGTUDqAB",
        "outputId": "6fbd1540-74bf-45cf-e787-f73e90e6a5f4"
      },
      "outputs": [
        {
          "data": {
            "text/plain": [
              "tensor([[0.0200, 0.9000, 0.0500, 0.0100, 0.0200]])"
            ]
          },
          "execution_count": 3,
          "metadata": {},
          "output_type": "execute_result"
        }
      ],
      "source": [
        "logits = torch.tensor([[1.3, 5.1, 2.2, 0.7, 1.1]])\n",
        "softmax(logits)"
      ]
    },
    {
      "cell_type": "markdown",
      "metadata": {
        "id": "sldk2evhDqAD"
      },
      "source": [
        "### Scaled Dot-Product Attention\n",
        "\n",
        "$\\text{Attention}(Q, K, V) = \\text{softmax}(\\frac{QK^T}{\\sqrt{d_k}})V$\n",
        "\n",
        "If $Q$ and $K$ are vectors, then $QK^T$ is basically the dot-product of the two vectors."
      ]
    },
    {
      "cell_type": "code",
      "execution_count": null,
      "metadata": {
        "id": "YC3YYLViDqAD",
        "outputId": "5e0e1c7d-ec1c-45ae-ec54-eb8693abc75f"
      },
      "outputs": [
        {
          "name": "stdout",
          "output_type": "stream",
          "text": [
            "--- 55.46487808227539 seconds ---\n"
          ]
        }
      ],
      "source": [
        "# Load 3 million Word2Vec Vectors, pre-trained on Google news, each with the dimension of 300\n",
        "# This model may take a few minutes to load.\n",
        "\n",
        "import gensim.downloader as api\n",
        "import time\n",
        "\n",
        "start_time = time.time()\n",
        "w2v_google = api.load(\"word2vec-google-news-300\")\n",
        "print(\"--- %s seconds ---\" % (time.time() - start_time))"
      ]
    },
    {
      "cell_type": "code",
      "execution_count": null,
      "metadata": {
        "id": "_DgBmiJfDqAF",
        "outputId": "396b778a-2091-47a1-a8c0-7a3f0cc17d0e"
      },
      "outputs": [
        {
          "name": "stderr",
          "output_type": "stream",
          "text": [
            "/tmp/ipykernel_4917/3878142539.py:8: UserWarning: Creating a tensor from a list of numpy.ndarrays is extremely slow. Please consider converting the list to a single numpy.ndarray with numpy.array() before converting to a tensor. (Triggered internally at ../torch/csrc/utils/tensor_new.cpp:245.)\n",
            "  QUERIES = torch.tensor([w2v_google[word] for word in query_words])  # (3, 300)\n"
          ]
        },
        {
          "data": {
            "text/plain": [
              "torch.Size([3, 300])"
            ]
          },
          "execution_count": 5,
          "metadata": {},
          "output_type": "execute_result"
        }
      ],
      "source": [
        "import torch\n",
        "\n",
        "query_words = [\"seal\", \"camel\", \"bear\"]\n",
        "key_words = [\"ice\", \"hot\", \"cold\"]\n",
        "VALUES = torch.tensor([10, 10, 5], dtype=torch.float32)\n",
        "\n",
        "\n",
        "QUERIES = torch.tensor([w2v_google[word] for word in query_words])  # (3, 300)\n",
        "KEYS = torch.tensor([w2v_google[word] for word in key_words])    # (3, 300)\n",
        "\n",
        "QUERIES.size()"
      ]
    },
    {
      "cell_type": "markdown",
      "metadata": {
        "id": "WIXKwSY3DqAG"
      },
      "source": [
        "|       | k1 | k2 | k3 |\n",
        "| ----- | -- | -- | -- |\n",
        "|**q1** |1.58|0.89|0.79|\n",
        "|**q2** |0.49|0.89|0.80|\n",
        "|**q3** |1.20|0.52|1.11|"
      ]
    },
    {
      "cell_type": "code",
      "execution_count": null,
      "metadata": {
        "id": "fV9p3ewvDqAH",
        "outputId": "8ede029c-d140-48a4-f68f-5920ec32433c"
      },
      "outputs": [
        {
          "data": {
            "text/plain": [
              "tensor([[1.5779, 0.8922, 0.7857],\n",
              "        [0.4927, 0.8886, 0.8000],\n",
              "        [1.1997, 0.5245, 1.1086]])"
            ]
          },
          "execution_count": 6,
          "metadata": {},
          "output_type": "execute_result"
        }
      ],
      "source": [
        "# similarities = QUERIES @ KEYS.T\n",
        "\n",
        "similarities = torch.zeros(size=(3, 3))\n",
        "\n",
        "for i, query in enumerate(QUERIES):\n",
        "    for j, key in enumerate(KEYS):\n",
        "        prod = query*key\n",
        "        dot_prod = prod.sum()\n",
        "\n",
        "        similarities[i,j] = dot_prod\n",
        "\n",
        "similarities"
      ]
    },
    {
      "cell_type": "code",
      "execution_count": null,
      "metadata": {
        "id": "Q-Sk05TlDqAI",
        "outputId": "1b2ff589-ef6c-437a-b5d5-91c12fe2b93f"
      },
      "outputs": [
        {
          "name": "stdout",
          "output_type": "stream",
          "text": [
            "tensor([0.4300, 0.2078, 0.3664])\n",
            "tensor([0.0248, 0.0120, 0.0212])\n"
          ]
        }
      ],
      "source": [
        "print(similarities.std(dim=1))\n",
        "\n",
        "scaled_similarities = similarities / (300**0.5)\n",
        "print(scaled_similarities.std(dim=1))"
      ]
    },
    {
      "cell_type": "code",
      "execution_count": null,
      "metadata": {
        "id": "7-LL0qrlDqAK",
        "outputId": "667877b0-8c5b-4e65-f72a-b46d49f09b75"
      },
      "outputs": [
        {
          "data": {
            "text/plain": [
              "tensor([[0.3400, 0.3300, 0.3300],\n",
              "        [0.3300, 0.3400, 0.3300],\n",
              "        [0.3400, 0.3300, 0.3400]])"
            ]
          },
          "execution_count": 8,
          "metadata": {},
          "output_type": "execute_result"
        }
      ],
      "source": [
        "weights = softmax(scaled_similarities)  # TODO: Is dimension good?\n",
        "weights"
      ]
    },
    {
      "cell_type": "code",
      "execution_count": null,
      "metadata": {
        "id": "o8LpLWFPDqAK",
        "outputId": "6ae8b694-fcdb-4b60-bc08-ad48f78dff1f"
      },
      "outputs": [
        {
          "data": {
            "text/plain": [
              "tensor([8.3500, 8.3500, 8.4000])"
            ]
          },
          "execution_count": 9,
          "metadata": {},
          "output_type": "execute_result"
        }
      ],
      "source": [
        "# output = weights @ VALUES\n",
        "\n",
        "output = torch.zeros(size=(3,))\n",
        "\n",
        "for i, weight in enumerate(weights):\n",
        "    weighted_sum = (weight*VALUES).sum()\n",
        "    output[i] = weighted_sum\n",
        "\n",
        "output"
      ]
    },
    {
      "cell_type": "markdown",
      "metadata": {
        "id": "x-t1W0LvDqAL"
      },
      "source": [
        "### Self-Attention\n",
        "\n",
        "The Key, Query and Value vectors are coming from the same embeddings and we transform them with different Linear Layers."
      ]
    },
    {
      "cell_type": "code",
      "execution_count": null,
      "metadata": {
        "id": "px7537w1DqAL",
        "outputId": "38c588aa-027e-4aad-c930-fc9ac8eed879"
      },
      "outputs": [
        {
          "data": {
            "text/plain": [
              "torch.Size([8, 300])"
            ]
          },
          "execution_count": 10,
          "metadata": {},
          "output_type": "execute_result"
        }
      ],
      "source": [
        "words = [\"the\", \"quick\", \"brown\", \"fox\", \"jumps\", \"over\", \"lazy\", \"dog\"]\n",
        "embeddings = torch.tensor([w2v_google[word] for word in words])\n",
        "\n",
        "embeddings.size()"
      ]
    },
    {
      "cell_type": "code",
      "execution_count": null,
      "metadata": {
        "id": "Y_68di7zDqAL"
      },
      "outputs": [],
      "source": [
        "K = torch.nn.Linear(300, 300)\n",
        "Q = torch.nn.Linear(300, 300)\n",
        "V = torch.nn.Linear(300, 300)"
      ]
    },
    {
      "cell_type": "code",
      "execution_count": null,
      "metadata": {
        "id": "MxY2gwXwDqAM",
        "outputId": "026df82a-5418-4a3c-e849-3474994f51b7"
      },
      "outputs": [
        {
          "data": {
            "text/plain": [
              "torch.Size([8, 300])"
            ]
          },
          "execution_count": 12,
          "metadata": {},
          "output_type": "execute_result"
        }
      ],
      "source": [
        "def SelfAttention(K, Q, V, embeddings):\n",
        "    key = K(embeddings)\n",
        "    query = Q(embeddings)\n",
        "    value = V(embeddings)\n",
        "\n",
        "    batch_size, d_k = key.size()\n",
        "\n",
        "    scaled_similarities = (query @ key.T) / (d_k**0.5)\n",
        "    weights = softmax(scaled_similarities)\n",
        "\n",
        "    return weights @ value\n",
        "\n",
        "output = SelfAttention(K, Q, V, embeddings)\n",
        "output.size()"
      ]
    },
    {
      "cell_type": "markdown",
      "metadata": {
        "id": "Pdn7NJcvDqAN"
      },
      "source": [
        "This way we can transform the embeddings using the surrounding embeddings."
      ]
    },
    {
      "cell_type": "markdown",
      "metadata": {
        "id": "dNMeMF2aDqAN"
      },
      "source": [
        "### Cross-Attention\n",
        "\n",
        "The Cross-Attention is a bridge, connecting the encoder and the decoder. The encoder summarizes the input and the decoder uses that information to produce the final output.\n",
        "\n",
        "In this process:\n",
        "- The **keys** and **values** are the encoder's output, which hold all the important details about the input.\n",
        "- The **query** is from the decoder's previous layer, asking: \"What part of the whole sequence should I pay attention to right now?\"\n",
        "\n",
        "In other words, it helps the decoder to decide which parts of the encoder's output are most relevant for generating the next word in the sequence.\n"
      ]
    },
    {
      "cell_type": "markdown",
      "metadata": {
        "id": "etHgrQvwDqAN"
      },
      "source": [
        "### Multi-Head Attention\n",
        "\n",
        "Instead of using a single attention mechanism, the model applies multiple attention heads in parallel. Each head performs independent qurey, key and value projections with learned weights. The outputs from all heads are concatenated and then projected again.\n",
        "\n",
        "Splitting attention into multiple heads allows the model to focus on different aspects of the input.\n"
      ]
    },
    {
      "cell_type": "code",
      "execution_count": null,
      "metadata": {
        "id": "dvAVLwnPDqAN"
      },
      "outputs": [],
      "source": [
        "import torch\n",
        "\n",
        "# Example: Multi-Head Attention\n",
        "class MultiHeadAttentionExample(torch.nn.Module):\n",
        "    def __init__(self, embed_size, num_heads):\n",
        "        super(MultiHeadAttentionExample, self).__init__()\n",
        "        self.num_heads = num_heads\n",
        "        self.head_dim = embed_size // num_heads\n",
        "\n",
        "        assert (\n",
        "            self.head_dim * num_heads == embed_size\n",
        "        ), \"Embedding size must be divisible by the number of heads\"\n",
        "\n",
        "        self.query = torch.nn.Linear(embed_size, embed_size)\n",
        "        self.key = torch.nn.Linear(embed_size, embed_size)\n",
        "        self.value = torch.nn.Linear(embed_size, embed_size)\n",
        "\n",
        "        # Final linear layer after concatenating heads\n",
        "        self.fc_out = torch.nn.Linear(embed_size, embed_size)\n",
        "\n",
        "    def forward(self, values, keys, queries):\n",
        "        batch_size = queries.size()[0]\n",
        "        query_len, key_len, value_len = queries.size()[1], keys.size()[1], values.size()[1]\n",
        "\n",
        "        queries = self.query(queries)  # (batch_size, query_len, embed_size)\n",
        "        keys = self.key(keys)          # (batch_size, key_len, embed_size)\n",
        "        values = self.value(values)    # (batch_size, value_len, embed_size)\n",
        "\n",
        "        # Split embeddings for each head\n",
        "        queries = queries.view(batch_size, query_len, self.num_heads, self.head_dim)\n",
        "        keys = keys.view(batch_size, key_len, self.num_heads, self.head_dim)\n",
        "        values = values.view(batch_size, value_len, self.num_heads, self.head_dim)\n",
        "\n",
        "        # Scaled Dot-Product Attention\n",
        "        queries = queries.transpose(1, 2)  # (batch_size, num_heads, query_len, head_dim)\n",
        "        keys = keys.transpose(1, 2)        # (batch_size, num_heads, key_len, head_dim)\n",
        "        values = values.transpose(1, 2)    # (batch_size, num_heads, value_len, head_dim)\n",
        "\n",
        "        similarities = torch.matmul(queries, keys.transpose(-1, -2)) / (self.head_dim ** 0.5)\n",
        "        attention_weights = torch.softmax(similarities, dim=-1)  # (batch_size, num_heads, query_len, key_len)\n",
        "\n",
        "        out = torch.matmul(attention_weights, values)  # (batch_size, num_heads, query_len, head_dim)\n",
        "\n",
        "        # Concatenate heads\n",
        "        out = out.transpose(1, 2).contiguous()  # (batch_size, query_len, num_heads, head_dim)\n",
        "        out = out.view(batch_size, query_len, -1)  # (batch_size, query_len, embed_size)\n",
        "\n",
        "        out = self.fc_out(out)  # (batch_size, query_len, embed_size)\n",
        "        return out\n"
      ]
    },
    {
      "cell_type": "code",
      "execution_count": null,
      "metadata": {
        "id": "r4AMfDSsDqAO",
        "outputId": "7a74f8b0-bbcb-4558-8b35-958c21f28dd9"
      },
      "outputs": [
        {
          "data": {
            "text/plain": [
              "torch.Size([1, 3, 8])"
            ]
          },
          "execution_count": 24,
          "metadata": {},
          "output_type": "execute_result"
        }
      ],
      "source": [
        "embed_size = 8\n",
        "num_heads = 2\n",
        "multi_head_attention = MultiHeadAttentionExample(embed_size, num_heads)\n",
        "\n",
        "# Random input\n",
        "batch_size, seq_len = 1, 3\n",
        "values = torch.rand(batch_size, seq_len, embed_size)\n",
        "keys = torch.rand(batch_size, seq_len, embed_size)\n",
        "queries = torch.rand(batch_size, seq_len, embed_size)\n",
        "\n",
        "output = multi_head_attention(values, keys, queries)\n",
        "output.size()"
      ]
    },
    {
      "cell_type": "markdown",
      "metadata": {
        "id": "DpdApHIIDqAP"
      },
      "source": [
        "### Positional Encoding\n",
        "\n",
        "We want to use the order of the words in the sequence, because it matters whether \"The dog chased the cat.\" or \"The cat chased the dog.\". We use the following formula to encode the positions:\n",
        "\n",
        "$\\text{PE}_{(pos,2i)} = \\sin{(pos/10000^{2i/d_{\\text{model}}​})}$\n",
        "\n",
        "$\\text{PE}_{(pos,2i+1)} = \\cos{(pos/10000^{2i/d_{\\text{model}}})}$\n",
        "\n",
        "where\n",
        "* $pos$ = token position\n",
        "* $i$ = embedding dimension index\n",
        "* $d_{model}$ = embedding size\n"
      ]
    },
    {
      "cell_type": "code",
      "execution_count": null,
      "metadata": {
        "id": "pGefAmHeDqAP"
      },
      "outputs": [],
      "source": [
        "from math import sin, cos\n",
        "\n",
        "pos_encoding = torch.zeros_like(embeddings)\n",
        "seq_len, d_model = pos_encoding.size()\n",
        "\n",
        "for pos, embedding in enumerate(embeddings):\n",
        "    for i, dim in enumerate(embedding):\n",
        "        if i % 2 == 0:\n",
        "            pos_encoding[pos, i] = sin(pos/(10000**(2*i/d_model)))\n",
        "        else:\n",
        "            pos_encoding[pos, i] = cos(pos/(10000**(2*i/d_model)))\n"
      ]
    },
    {
      "cell_type": "code",
      "execution_count": null,
      "metadata": {
        "id": "7ntzQ2naDqAQ",
        "outputId": "3beb197c-9713-435c-a55f-76bc05b4e0a9"
      },
      "outputs": [
        {
          "data": {
            "image/png": "[encoded data removed]",
            "text/plain": [
              "<Figure size 1200x600 with 2 Axes>"
            ]
          },
          "metadata": {},
          "output_type": "display_data"
        }
      ],
      "source": [
        "import matplotlib.pyplot as plt\n",
        "import seaborn as sns\n",
        "\n",
        "plt.figure(figsize=(12, 6))\n",
        "sns.heatmap(pos_encoding[:, :80], cmap=\"viridis\", xticklabels=5, yticklabels=1)\n",
        "plt.xlabel(\"Embedding Dimensions\")\n",
        "plt.ylabel(\"Token Positions\")\n",
        "plt.title(\"Positional Encoding Heatmap\")\n",
        "plt.show()"
      ]
    },
    {
      "cell_type": "markdown",
      "metadata": {
        "id": "S8Qu7T7CmCCq"
      },
      "source": [
        "## Transformer Example\n",
        "\n",
        "Trnaslate Hungarian to English. [Source of data processing](https://pytorch.org/tutorials/beginner/torchtext_translation_tutorial.html)."
      ]
    },
    {
      "cell_type": "markdown",
      "metadata": {
        "id": "uHJMkBa1mgIY"
      },
      "source": [
        "### Data Loading"
      ]
    },
    {
      "cell_type": "code",
      "execution_count": 129,
      "metadata": {
        "id": "Vw1xa4nCDqAS"
      },
      "outputs": [],
      "source": [
        "from __future__ import unicode_literals, print_function, division\n",
        "from io import open\n",
        "import unicodedata\n",
        "import re\n",
        "import random\n",
        "import os\n",
        "\n",
        "import torch\n",
        "import torch.nn as nn\n",
        "from torch import optim\n",
        "import torch.nn.functional as F\n",
        "\n",
        "import numpy as np\n",
        "from torch.utils.data import TensorDataset, DataLoader, RandomSampler\n",
        "\n",
        "import matplotlib.pyplot as plt\n",
        "\n",
        "device = torch.device(\"cuda\" if torch.cuda.is_available() else \"cpu\")"
      ]
    },
    {
      "cell_type": "code",
      "execution_count": 127,
      "metadata": {
        "id": "4jhX0fJ1DqAS"
      },
      "outputs": [],
      "source": [
        "PAD_token = 0\n",
        "SOS_token = 1\n",
        "EOS_token = 2\n",
        "\n",
        "class Lang:\n",
        "    def __init__(self, name):\n",
        "        self.name = name\n",
        "        self.word2index = {}\n",
        "        self.word2count = {}\n",
        "        self.index2word = {PAD_token: \"PAD\", SOS_token: \"SOS\", EOS_token: \"EOS\"}\n",
        "        self.n_words = 3  # Count SOS, EOS and PAD\n",
        "\n",
        "    def addSentence(self, sentence):\n",
        "        for word in sentence.split(' '):\n",
        "            self.addWord(word)\n",
        "\n",
        "    def addWord(self, word):\n",
        "        if word not in self.word2index:\n",
        "            self.word2index[word] = self.n_words\n",
        "            self.word2count[word] = 1\n",
        "            self.index2word[self.n_words] = word\n",
        "            self.n_words += 1\n",
        "        else:\n",
        "            self.word2count[word] += 1"
      ]
    },
    {
      "cell_type": "code",
      "execution_count": 128,
      "metadata": {
        "id": "wuDreuY_DqAS"
      },
      "outputs": [],
      "source": [
        "# Turn a Unicode string to plain ASCII, thanks to\n",
        "# https://stackoverflow.com/a/518232/2809427\n",
        "def unicodeToAscii(s):\n",
        "    return ''.join(\n",
        "        c for c in unicodedata.normalize('NFD', s)\n",
        "        if unicodedata.category(c) != 'Mn'\n",
        "    )\n",
        "\n",
        "# Lowercase, trim, and remove non-letter characters\n",
        "def normalizeString(s):\n",
        "    s = unicodeToAscii(s.lower().strip())\n",
        "    s = re.sub(r\"([.!?])\", r\" \\1\", s)\n",
        "    s = re.sub(r\"[^a-zA-Z!?]+\", r\" \", s)\n",
        "    return s.strip()"
      ]
    },
    {
      "cell_type": "code",
      "execution_count": 129,
      "metadata": {
        "id": "DvkmToL8DqAT"
      },
      "outputs": [],
      "source": [
        "def readLangs(lang1, lang2, path, reverse=False):\n",
        "    print(\"Reading lines...\")\n",
        "\n",
        "    # Read the file and split into lines\n",
        "    with open(path, encoding='utf-8') as file:\n",
        "        lines = file.read().strip().split('\\n')\n",
        "\n",
        "    # Split every line into pairs and normalize\n",
        "    pairs = [[normalizeString(s) for s in l.split('\\t')[:2]] for l in lines]\n",
        "\n",
        "    # Reverse pairs, make Lang instances\n",
        "    if reverse:\n",
        "        pairs = [list(reversed(p)) for p in pairs]\n",
        "        input_lang = Lang(lang2)\n",
        "        output_lang = Lang(lang1)\n",
        "    else:\n",
        "        input_lang = Lang(lang1)\n",
        "        output_lang = Lang(lang2)\n",
        "\n",
        "    return input_lang, output_lang, pairs"
      ]
    },
    {
      "cell_type": "code",
      "execution_count": 130,
      "metadata": {
        "id": "G5ZMzwmbDqAT"
      },
      "outputs": [],
      "source": [
        "MAX_LENGTH = 10\n",
        "\n",
        "eng_prefixes = (\n",
        "    \"i am \", \"i m \",\n",
        "    \"he is\", \"he s \",\n",
        "    \"she is\", \"she s \",\n",
        "    \"you are\", \"you re \",\n",
        "    \"we are\", \"we re \",\n",
        "    \"they are\", \"they re \",\n",
        ")\n",
        "\n",
        "def filterPair(p):\n",
        "    return len(p[0].split(' ')) <= MAX_LENGTH and \\\n",
        "           len(p[1].split(' ')) <= MAX_LENGTH and \\\n",
        "           p[1].startswith(eng_prefixes)\n",
        "\n",
        "\n",
        "def filterPairs(pairs):\n",
        "    return [pair for pair in pairs if filterPair(pair)]"
      ]
    },
    {
      "cell_type": "code",
      "execution_count": 131,
      "metadata": {
        "id": "_vZrOA4cDqAT"
      },
      "outputs": [],
      "source": [
        "def prepareData(lang1, lang2, path,reverse=False):\n",
        "    input_lang, output_lang, pairs = readLangs(lang1, lang2, path, reverse)\n",
        "\n",
        "    print(\"Read %s sentence pairs\" % len(pairs))\n",
        "    pairs = filterPairs(pairs)\n",
        "\n",
        "    print(\"Trimmed to %s sentence pairs\" % len(pairs))\n",
        "    print(\"Counting words...\")\n",
        "    for pair in pairs:\n",
        "        input_lang.addSentence(pair[0])\n",
        "        output_lang.addSentence(pair[1])\n",
        "\n",
        "    print(\"Counted words:\")\n",
        "    print(input_lang.name, input_lang.n_words)\n",
        "    print(output_lang.name, output_lang.n_words)\n",
        "\n",
        "    return input_lang, output_lang, pairs\n",
        "\n",
        "# input_lang, output_lang, pairs = prepareData('eng', 'hun', \"../data/translation/hun.txt\", True)\n",
        "# print(random.choice(pairs))"
      ]
    },
    {
      "cell_type": "code",
      "execution_count": 132,
      "metadata": {
        "id": "8wJ1am2_DqAU"
      },
      "outputs": [],
      "source": [
        "def indexesFromSentence(lang, sentence):\n",
        "    return [lang.word2index[word] for word in sentence.split(' ')]\n",
        "\n",
        "def get_dataloader(batch_size):\n",
        "    input_lang, output_lang, pairs = prepareData('eng', 'hun', \"hun.txt\", True)\n",
        "\n",
        "    n = len(pairs)\n",
        "    input_ids = np.full((n, MAX_LENGTH+2), fill_value=PAD_token, dtype=np.int32)\n",
        "    target_ids = np.full((n, MAX_LENGTH+2), fill_value=PAD_token, dtype=np.int32)\n",
        "\n",
        "    inx = np.arange(len(pairs))\n",
        "    np.random.shuffle(inx)\n",
        "\n",
        "    for idx, (inp, tgt) in enumerate(pairs):\n",
        "        inp_ids = indexesFromSentence(input_lang, inp)\n",
        "        tgt_ids = indexesFromSentence(output_lang, tgt)\n",
        "        inp_ids.append(EOS_token)\n",
        "        tgt_ids.append(EOS_token)\n",
        "        inp_ids = [SOS_token] + inp_ids\n",
        "        tgt_ids = [SOS_token] + tgt_ids\n",
        "        input_ids[idx, :len(inp_ids)] = inp_ids\n",
        "        target_ids[idx, :len(tgt_ids)] = tgt_ids\n",
        "\n",
        "    train_input_ids = input_ids[inx[:8000]]\n",
        "    val_input_ids = input_ids[inx[8000:]]\n",
        "    train_target_ids = target_ids[inx[:8000]]\n",
        "    val_target_ids = target_ids[inx[8000:]]\n",
        "\n",
        "    train_data = TensorDataset(torch.LongTensor(train_input_ids).to(device),\n",
        "                               torch.LongTensor(train_target_ids).to(device))\n",
        "    val_data = TensorDataset(torch.LongTensor(val_input_ids).to(device),\n",
        "                               torch.LongTensor(val_target_ids).to(device))\n",
        "\n",
        "    train_dataloader = DataLoader(train_data, batch_size=batch_size, shuffle=True)\n",
        "    val_dataloader = DataLoader(val_data, batch_size=batch_size, shuffle=True)\n",
        "\n",
        "    return input_lang, output_lang, train_dataloader, val_dataloader"
      ]
    },
    {
      "cell_type": "markdown",
      "metadata": {
        "id": "Q6zNdsMZmj0Q"
      },
      "source": [
        "### Model"
      ]
    },
    {
      "cell_type": "code",
      "execution_count": 133,
      "metadata": {
        "id": "Bg9sqnPNDqAU"
      },
      "outputs": [],
      "source": [
        "class PositionalEncoding(nn.Module):\n",
        "    def __init__(self, d_model, max_len=15):\n",
        "        super(PositionalEncoding, self).__init__()\n",
        "\n",
        "        self.encoding = torch.zeros(max_len, d_model)\n",
        "\n",
        "        position = torch.arange(0, max_len, dtype=torch.float).unsqueeze(1)\n",
        "        div_term = torch.exp(torch.arange(0, d_model, 2).float() * (-np.log(10000.0) / d_model))\n",
        "\n",
        "        self.encoding[:, 0::2] = torch.sin(position * div_term)\n",
        "        self.encoding[:, 1::2] = torch.cos(position * div_term)\n",
        "        self.encoding = self.encoding.unsqueeze(0)\n",
        "\n",
        "    def forward(self, x):\n",
        "        return x + self.encoding[:, :x.size(1), :].to(x.device)"
      ]
    },
    {
      "cell_type": "code",
      "execution_count": 134,
      "metadata": {
        "id": "ZKK3TTsvDqAV"
      },
      "outputs": [],
      "source": [
        "class TransformerModel(nn.Module):\n",
        "    def __init__(self, input_vocab_size, target_vocab_size, d_model=512, nhead=8, num_layers=3, dim_feedforward=2048):\n",
        "        super(TransformerModel, self).__init__()\n",
        "        self.d_model = d_model\n",
        "\n",
        "        # Embedding layers\n",
        "        self.input_embedding = nn.Embedding(input_vocab_size, d_model)\n",
        "        self.target_embedding = nn.Embedding(target_vocab_size, d_model)\n",
        "        self.positional_encoding = PositionalEncoding(d_model)\n",
        "\n",
        "        # Transformer\n",
        "        self.transformer = nn.Transformer(\n",
        "            d_model=d_model, nhead=nhead, num_encoder_layers=num_layers,\n",
        "            num_decoder_layers=num_layers, dim_feedforward=dim_feedforward, dropout=0.1\n",
        "        )\n",
        "\n",
        "        # Output layer\n",
        "        self.fc_out = nn.Linear(d_model, target_vocab_size)\n",
        "\n",
        "    def generate_square_subsequent_mask(self, length):\n",
        "        mask = torch.triu(torch.ones(length, length) * float('-inf'), diagonal=1)\n",
        "        return mask\n",
        "\n",
        "    def forward(self, src, tgt):\n",
        "        src_mask = None\n",
        "        tgt_mask = self.generate_square_subsequent_mask(tgt.size(1)).to(src.device)\n",
        "\n",
        "        src_emb = self.positional_encoding(self.input_embedding(src) * np.sqrt(self.d_model))\n",
        "        tgt_emb = self.positional_encoding(self.target_embedding(tgt) * np.sqrt(self.d_model))\n",
        "\n",
        "        output = self.transformer(src_emb.transpose(0, 1), tgt_emb.transpose(0, 1), src_mask=src_mask, tgt_mask=tgt_mask)\n",
        "\n",
        "        return self.fc_out(output.transpose(0, 1))\n"
      ]
    },
    {
      "cell_type": "markdown",
      "metadata": {
        "id": "3QLMTHfomlS6"
      },
      "source": [
        "### Training"
      ]
    },
    {
      "cell_type": "code",
      "execution_count": 135,
      "metadata": {
        "id": "Y2s0lq-KDqAV"
      },
      "outputs": [],
      "source": [
        "def evaluate(model, val_dataloader, criterion, device='cpu'):\n",
        "    model.eval()\n",
        "    total_loss = 0\n",
        "    correct = 0\n",
        "    total = 0\n",
        "\n",
        "    with torch.no_grad():\n",
        "        for src, tgt in val_dataloader:\n",
        "            src, tgt = src.to(device), tgt.to(device)\n",
        "            tgt_input = tgt[:, :-1]\n",
        "            tgt_output = tgt[:, 1:]\n",
        "\n",
        "            output = model(src, tgt_input)\n",
        "\n",
        "            loss = criterion(output.reshape(-1, output.size(-1)), tgt_output.reshape(-1))\n",
        "            total_loss += loss.item()\n",
        "            pred = output.argmax(2)\n",
        "            correct += (pred == tgt_output).sum().item()\n",
        "            total += tgt_output.numel()\n",
        "\n",
        "    val_loss = total_loss / len(val_dataloader)\n",
        "    val_acc = correct / total\n",
        "\n",
        "    # print(f\"Validation Loss: {val_loss:.4f}, Accuracy: {val_acc:.4f}\")\n",
        "    return val_loss, val_acc"
      ]
    },
    {
      "cell_type": "code",
      "execution_count": 136,
      "metadata": {
        "id": "Tn3U_NUoDqAV"
      },
      "outputs": [],
      "source": [
        "def train(model, train_dataloader, val_dataloader, optimizer, criterion, num_epochs=10, device=\"cpu\", print_every=100):\n",
        "    train_losses, val_losses = [], []\n",
        "    for epoch in range(num_epochs):\n",
        "        model.train()\n",
        "        total_loss = 0\n",
        "        for src, tgt in train_dataloader:\n",
        "            src, tgt = src.to(device), tgt.to(device)\n",
        "            tgt_input = tgt[:, :-1]  # Decoder input\n",
        "            tgt_output = tgt[:, 1:]  # Ground truth\n",
        "\n",
        "            optimizer.zero_grad()\n",
        "            output = model(src, tgt_input)\n",
        "\n",
        "            # Compute loss\n",
        "            loss = criterion(output.reshape(-1, output.size(-1)), tgt_output.reshape(-1))\n",
        "            loss.backward()\n",
        "            optimizer.step()\n",
        "            total_loss += loss.item()\n",
        "\n",
        "        # Validation\n",
        "        val_loss, val_acc = evaluate(model, val_dataloader, criterion, device=device)\n",
        "\n",
        "        val_losses.append(val_loss)\n",
        "        train_losses.append(total_loss / len(train_dataloader))\n",
        "\n",
        "        if (epoch+1) % print_every == 0:\n",
        "            print(f\"Epoch {epoch+1}/{num_epochs}, Loss: {total_loss/len(train_dataloader):.4f} - Val Loss: {val_loss:.4f} - Val Acc: {val_acc:.4f}\")\n",
        "\n",
        "    return train_losses, val_losses"
      ]
    },
    {
      "cell_type": "code",
      "execution_count": 137,
      "metadata": {
        "colab": {
          "base_uri": "https://localhost:8080/"
        },
        "id": "fsAl5PLdDqAV",
        "outputId": "73144867-f426-4edc-9bba-2473671c4dac"
      },
      "outputs": [
        {
          "name": "stdout",
          "output_type": "stream",
          "text": [
            "Reading lines...\n",
            "Read 118890 sentence pairs\n",
            "Trimmed to 8353 sentence pairs\n",
            "Counting words...\n",
            "Counted words:\n",
            "hun 6114\n",
            "eng 2698\n"
          ]
        }
      ],
      "source": [
        "batch_size = 512\n",
        "\n",
        "input_lang, output_lang, train_dataloader, val_dataloader = get_dataloader(batch_size)"
      ]
    },
    {
      "cell_type": "code",
      "execution_count": 138,
      "metadata": {
        "colab": {
          "base_uri": "https://localhost:8080/"
        },
        "id": "ulOBwK2SDqAW",
        "outputId": "8dfcf7d6-9900-4b6d-b0fd-f05bac080eff"
      },
      "outputs": [
        {
          "name": "stdout",
          "output_type": "stream",
          "text": [
            "Epoch 10/400, Loss: 4.6824 - Val Loss: 4.4613 - Val Acc: 0.2238\n",
            "Epoch 20/400, Loss: 3.9519 - Val Loss: 3.7902 - Val Acc: 0.2593\n",
            "Epoch 30/400, Loss: 3.5650 - Val Loss: 3.4620 - Val Acc: 0.2794\n",
            "Epoch 40/400, Loss: 3.3145 - Val Loss: 3.2631 - Val Acc: 0.2879\n",
            "Epoch 50/400, Loss: 3.1173 - Val Loss: 3.0996 - Val Acc: 0.3036\n",
            "Epoch 60/400, Loss: 2.9487 - Val Loss: 2.9740 - Val Acc: 0.3144\n",
            "Epoch 70/400, Loss: 2.8011 - Val Loss: 2.8702 - Val Acc: 0.3222\n",
            "Epoch 80/400, Loss: 2.6706 - Val Loss: 2.7918 - Val Acc: 0.3266\n",
            "Epoch 90/400, Loss: 2.5544 - Val Loss: 2.7134 - Val Acc: 0.3325\n",
            "Epoch 100/400, Loss: 2.4460 - Val Loss: 2.6516 - Val Acc: 0.3381\n",
            "Epoch 110/400, Loss: 2.3447 - Val Loss: 2.5941 - Val Acc: 0.3410\n",
            "Epoch 120/400, Loss: 2.2546 - Val Loss: 2.5449 - Val Acc: 0.3459\n",
            "Epoch 130/400, Loss: 2.1653 - Val Loss: 2.5067 - Val Acc: 0.3461\n",
            "Epoch 140/400, Loss: 2.0806 - Val Loss: 2.4709 - Val Acc: 0.3502\n",
            "Epoch 150/400, Loss: 2.0002 - Val Loss: 2.4346 - Val Acc: 0.3544\n",
            "Epoch 160/400, Loss: 1.9224 - Val Loss: 2.4055 - Val Acc: 0.3562\n",
            "Epoch 170/400, Loss: 1.8516 - Val Loss: 2.3808 - Val Acc: 0.3613\n",
            "Epoch 180/400, Loss: 1.7807 - Val Loss: 2.3521 - Val Acc: 0.3616\n",
            "Epoch 190/400, Loss: 1.7138 - Val Loss: 2.3332 - Val Acc: 0.3616\n",
            "Epoch 200/400, Loss: 1.6517 - Val Loss: 2.3049 - Val Acc: 0.3649\n",
            "Epoch 210/400, Loss: 1.5884 - Val Loss: 2.2879 - Val Acc: 0.3678\n",
            "Epoch 220/400, Loss: 1.5325 - Val Loss: 2.2644 - Val Acc: 0.3708\n",
            "Epoch 230/400, Loss: 1.4753 - Val Loss: 2.2580 - Val Acc: 0.3719\n",
            "Epoch 240/400, Loss: 1.4182 - Val Loss: 2.2453 - Val Acc: 0.3714\n",
            "Epoch 250/400, Loss: 1.3681 - Val Loss: 2.2279 - Val Acc: 0.3727\n",
            "Epoch 260/400, Loss: 1.3160 - Val Loss: 2.2221 - Val Acc: 0.3765\n",
            "Epoch 270/400, Loss: 1.2634 - Val Loss: 2.2132 - Val Acc: 0.3734\n",
            "Epoch 280/400, Loss: 1.2156 - Val Loss: 2.2042 - Val Acc: 0.3747\n",
            "Epoch 290/400, Loss: 1.1722 - Val Loss: 2.1983 - Val Acc: 0.3757\n",
            "Epoch 300/400, Loss: 1.1247 - Val Loss: 2.1971 - Val Acc: 0.3768\n",
            "Epoch 310/400, Loss: 1.0836 - Val Loss: 2.1820 - Val Acc: 0.3791\n",
            "Epoch 320/400, Loss: 1.0395 - Val Loss: 2.1825 - Val Acc: 0.3811\n",
            "Epoch 330/400, Loss: 0.9983 - Val Loss: 2.1811 - Val Acc: 0.3817\n",
            "Epoch 340/400, Loss: 0.9552 - Val Loss: 2.1676 - Val Acc: 0.3822\n",
            "Epoch 350/400, Loss: 0.9190 - Val Loss: 2.1597 - Val Acc: 0.3830\n",
            "Epoch 360/400, Loss: 0.8800 - Val Loss: 2.1607 - Val Acc: 0.3837\n",
            "Epoch 370/400, Loss: 0.8425 - Val Loss: 2.1544 - Val Acc: 0.3830\n",
            "Epoch 380/400, Loss: 0.8070 - Val Loss: 2.1581 - Val Acc: 0.3848\n",
            "Epoch 390/400, Loss: 0.7731 - Val Loss: 2.1540 - Val Acc: 0.3866\n",
            "Epoch 400/400, Loss: 0.7383 - Val Loss: 2.1548 - Val Acc: 0.3868\n"
          ]
        }
      ],
      "source": [
        "# Define device\n",
        "device = torch.device(\"cuda\" if torch.cuda.is_available() else \"cpu\")\n",
        "\n",
        "\n",
        "# Instantiate the model\n",
        "model = TransformerModel(\n",
        "    input_vocab_size=input_lang.n_words,\n",
        "    target_vocab_size=output_lang.n_words,\n",
        "    d_model=512,  # Reduce for faster training\n",
        "    nhead=8,\n",
        "    num_layers=5,\n",
        "    dim_feedforward=512  # Reduced for simplicity\n",
        ").to(device)\n",
        "\n",
        "# Define optimizer and loss function\n",
        "padding_id = PAD_token\n",
        "\n",
        "optimizer = torch.optim.AdamW(model.parameters(), lr=0.00001)\n",
        "criterion = nn.CrossEntropyLoss(ignore_index=padding_id)\n",
        "NUM_EPOCHS = 400\n",
        "\n",
        "train_losses, val_losses = train(model, train_dataloader, val_dataloader, optimizer, criterion, num_epochs=NUM_EPOCHS, device=device, print_every=10)"
      ]
    },
    {
      "cell_type": "code",
      "execution_count": 139,
      "metadata": {
        "colab": {
          "base_uri": "https://localhost:8080/",
          "height": 452
        },
        "id": "RGx2zfDrF1zd",
        "outputId": "a4073fe6-6dbf-445e-a146-f2ec567630a2"
      },
      "outputs": [
        {
          "data": {
            "image/png": "[encoded data removed]",
            "text/plain": [
              "<Figure size 640x480 with 1 Axes>"
            ]
          },
          "metadata": {},
          "output_type": "display_data"
        }
      ],
      "source": [
        "epochs = range(1, NUM_EPOCHS+1)\n",
        "plt.plot(epochs, train_losses, label=\"Train Loss\")\n",
        "plt.plot(epochs, val_losses, label=\"Validation Loss\")\n",
        "plt.legend()\n",
        "plt.title(\"Loss Trends\")\n",
        "plt.show()"
      ]
    },
    {
      "cell_type": "markdown",
      "metadata": {
        "id": "7klhMgiqphbO"
      },
      "source": [
        "### Save and Load Model"
      ]
    },
    {
      "cell_type": "code",
      "execution_count": null,
      "metadata": {
        "id": "LTKnGX6nqADu"
      },
      "outputs": [],
      "source": [
        "file_path = \"trained_transformer_model.pth\""
      ]
    },
    {
      "cell_type": "code",
      "execution_count": 142,
      "metadata": {
        "id": "qPLHa8q1pkrC"
      },
      "outputs": [],
      "source": [
        "torch.save(model.state_dict(), file_path)"
      ]
    },
    {
      "cell_type": "code",
      "execution_count": 150,
      "metadata": {
        "colab": {
          "base_uri": "https://localhost:8080/"
        },
        "id": "zvWgyjhzpo-e",
        "outputId": "c7c3b237-a827-4749-e8eb-b252d64dd643"
      },
      "outputs": [
        {
          "name": "stderr",
          "output_type": "stream",
          "text": [
            "/usr/local/lib/python3.11/dist-packages/torch/nn/modules/transformer.py:385: UserWarning: enable_nested_tensor is True, but self.use_nested_tensor is False because encoder_layer.self_attn.batch_first was not True(use batch_first for better inference performance)\n",
            "  warnings.warn(\n"
          ]
        },
        {
          "data": {
            "text/plain": [
              "TransformerModel(\n",
              "  (input_embedding): Embedding(6114, 512)\n",
              "  (target_embedding): Embedding(2698, 512)\n",
              "  (positional_encoding): PositionalEncoding()\n",
              "  (transformer): Transformer(\n",
              "    (encoder): TransformerEncoder(\n",
              "      (layers): ModuleList(\n",
              "        (0-4): 5 x TransformerEncoderLayer(\n",
              "          (self_attn): MultiheadAttention(\n",
              "            (out_proj): NonDynamicallyQuantizableLinear(in_features=512, out_features=512, bias=True)\n",
              "          )\n",
              "          (linear1): Linear(in_features=512, out_features=512, bias=True)\n",
              "          (dropout): Dropout(p=0.1, inplace=False)\n",
              "          (linear2): Linear(in_features=512, out_features=512, bias=True)\n",
              "          (norm1): LayerNorm((512,), eps=1e-05, elementwise_affine=True)\n",
              "          (norm2): LayerNorm((512,), eps=1e-05, elementwise_affine=True)\n",
              "          (dropout1): Dropout(p=0.1, inplace=False)\n",
              "          (dropout2): Dropout(p=0.1, inplace=False)\n",
              "        )\n",
              "      )\n",
              "      (norm): LayerNorm((512,), eps=1e-05, elementwise_affine=True)\n",
              "    )\n",
              "    (decoder): TransformerDecoder(\n",
              "      (layers): ModuleList(\n",
              "        (0-4): 5 x TransformerDecoderLayer(\n",
              "          (self_attn): MultiheadAttention(\n",
              "            (out_proj): NonDynamicallyQuantizableLinear(in_features=512, out_features=512, bias=True)\n",
              "          )\n",
              "          (multihead_attn): MultiheadAttention(\n",
              "            (out_proj): NonDynamicallyQuantizableLinear(in_features=512, out_features=512, bias=True)\n",
              "          )\n",
              "          (linear1): Linear(in_features=512, out_features=512, bias=True)\n",
              "          (dropout): Dropout(p=0.1, inplace=False)\n",
              "          (linear2): Linear(in_features=512, out_features=512, bias=True)\n",
              "          (norm1): LayerNorm((512,), eps=1e-05, elementwise_affine=True)\n",
              "          (norm2): LayerNorm((512,), eps=1e-05, elementwise_affine=True)\n",
              "          (norm3): LayerNorm((512,), eps=1e-05, elementwise_affine=True)\n",
              "          (dropout1): Dropout(p=0.1, inplace=False)\n",
              "          (dropout2): Dropout(p=0.1, inplace=False)\n",
              "          (dropout3): Dropout(p=0.1, inplace=False)\n",
              "        )\n",
              "      )\n",
              "      (norm): LayerNorm((512,), eps=1e-05, elementwise_affine=True)\n",
              "    )\n",
              "  )\n",
              "  (fc_out): Linear(in_features=512, out_features=2698, bias=True)\n",
              ")"
            ]
          },
          "execution_count": 150,
          "metadata": {},
          "output_type": "execute_result"
        }
      ],
      "source": [
        "model_loaded = TransformerModel(\n",
        "    input_vocab_size=input_lang.n_words,\n",
        "    target_vocab_size=output_lang.n_words,\n",
        "    d_model=512,  # Reduce for faster training\n",
        "    nhead=8,\n",
        "    num_layers=5,\n",
        "    dim_feedforward=512  # Reduced for simplicity\n",
        ").to(device)\n",
        "model_loaded.load_state_dict(torch.load(file_path, weights_only=True))\n",
        "model_loaded.eval()"
      ]
    },
    {
      "cell_type": "markdown",
      "metadata": {
        "id": "nveYC2ntmp1r"
      },
      "source": [
        "### Test"
      ]
    },
    {
      "cell_type": "code",
      "execution_count": 154,
      "metadata": {
        "colab": {
          "base_uri": "https://localhost:8080/"
        },
        "id": "mgmYdbbWGWkw",
        "outputId": "a4638b59-1aa3-4103-8259-f6ff1ea49589"
      },
      "outputs": [
        {
          "name": "stdout",
          "output_type": "stream",
          "text": [
            "i m here to be here here\n",
            "we re here to here here\n",
            "you re big enough by big\n",
            "you re very big enough to do that\n",
            "you re very happy for you ?\n"
          ]
        }
      ],
      "source": [
        "def indexesFromSentence(lang, sentence):\n",
        "    return [lang.word2index[word] for word in sentence.split(' ')]\n",
        "\n",
        "def tensorFromSentence(lang, sentence):\n",
        "    indexes = [SOS_token] + indexesFromSentence(lang, sentence)\n",
        "    indexes.append(EOS_token)\n",
        "    return torch.tensor(indexes, dtype=torch.long, device=device).view(1, -1)\n",
        "\n",
        "def translate(model, sentence, input_lang, output_lang):\n",
        "    model.eval()\n",
        "\n",
        "    with torch.no_grad():\n",
        "        input_tensor = tensorFromSentence(input_lang, sentence).to(device)\n",
        "        tgt_input = torch.tensor([SOS_token], dtype=torch.long).unsqueeze(0).to(device)\n",
        "\n",
        "        for _ in range(15):\n",
        "            output = model(input_tensor, tgt_input)\n",
        "            next_token = output.argmax(2)[:, -1:]\n",
        "            tgt_input = torch.cat((tgt_input, next_token), dim=1)\n",
        "\n",
        "            if next_token.item() == EOS_token:\n",
        "                break\n",
        "\n",
        "        translated_text = ' '.join(output_lang.index2word[idx.item()] for idx in tgt_input[0, 1:-1])\n",
        "        return translated_text\n",
        "\n",
        "print(translate(model_loaded, \"itt vagyok\", input_lang, output_lang))\n",
        "print(translate(model_loaded, \"itt vagyunk\", input_lang, output_lang))\n",
        "print(translate(model_loaded, \"nagy vagy\", input_lang, output_lang))\n",
        "print(translate(model_loaded, \"nagyon nagy vagy\", input_lang, output_lang))\n",
        "print(translate(model_loaded, \"te nagyon kicsi vagy\", input_lang, output_lang))"
      ]
    }
  ],
  "metadata": {
    "accelerator": "GPU",
    "colab": {
      "gpuType": "A100",
      "provenance": []
    },
    "kernelspec": {
      "display_name": "Python 3",
      "name": "python3"
    },
    "language_info": {
      "codemirror_mode": {
        "name": "ipython",
        "version": 3
      },
      "file_extension": ".py",
      "mimetype": "text/x-python",
      "name": "python",
      "nbconvert_exporter": "python",
      "pygments_lexer": "ipython3",
      "version": "3.10.12"
    }
  },
  "nbformat": 4,
  "nbformat_minor": 0
}
