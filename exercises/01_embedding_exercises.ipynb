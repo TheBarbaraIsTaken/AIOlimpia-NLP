{
 "cells": [
  {
   "cell_type": "markdown",
   "metadata": {},
   "source": [
    "# NLP I. - Word Embeddings Exercises\n",
    "\n",
    "\n",
    "## Exercise 1. - Skip-gram with negative sampling (SGNS)\n"
   ]
  },
  {
   "cell_type": "markdown",
   "metadata": {},
   "source": [
    "### Dataset\n",
    "\n",
    "Finish the implementation of the `SGNSDataCreator` to get a training dataset. Don't forget to add negative samples too! Experiment with the learning rate and the optimizers."
   ]
  },
  {
   "cell_type": "code",
   "execution_count": null,
   "metadata": {},
   "outputs": [],
   "source": [
    "from collections import Counter\n",
    "import torch\n",
    "\n",
    "class SGNSDataCreator:\n",
    "    def __init__(self, text_path: str, window_size: int, threshold: int = 4) -> None:\n",
    "        self.text_path = text_path\n",
    "        self.window_size = window_size\n",
    "        self.threshold = threshold\n",
    "\n",
    "        self.unk = \"<UNK>\"\n",
    "\n",
    "        # Read data\n",
    "        with open(self.text_path, 'r') as file:\n",
    "            self.text = file.read().strip()\n",
    "\n",
    "        # Preprocess data\n",
    "        self.tokens = self.preprocess_text(self.text)\n",
    "        self.length = len(self.tokens)\n",
    "\n",
    "        # Vocabulary\n",
    "        # Keep only those words for the vocabulary that occur at least `threshold` times\n",
    "        frequencies = Counter(self.tokens)\n",
    "        self.vocab = {}\n",
    "\n",
    "        id = 0\n",
    "        for word, freq in frequencies.items():\n",
    "            if freq >= self.threshold:\n",
    "                self.vocab[word] = id\n",
    "                id += 1\n",
    "\n",
    "        self.vocab[self.unk] = len(self.vocab)\n",
    "\n",
    "        self.reverse_vocab = {i: word for word, i in self.vocab.items()}\n",
    "        self.unk_id = self.vocab[self.unk]\n",
    "\n",
    "        self.token_ids = [self.vocab.get(token, self.unk_id) for token in self.tokens]\n",
    "\n",
    "    def get_vocab_size(self) -> int:\n",
    "        return len(self.vocab)\n",
    "    \n",
    "    def preprocess_text(self, text: str) -> list[str]:\n",
    "        pass\n",
    "\n",
    "    def get_training_data(self) -> torch.Tensor:\n",
    "        \"\"\"\n",
    "        Returns: the training dataset in triples: (target, other_word, label).\n",
    "        - label: 0 means negative example, 1 means positive example\n",
    "        \"\"\"\n",
    "        pass\n"
   ]
  },
  {
   "cell_type": "code",
   "execution_count": null,
   "metadata": {},
   "outputs": [],
   "source": [
    "import os\n",
    "from torch.utils.data import DataLoader\n",
    "\n",
    "text_path = os.path.join(\"..\", \"data\", \"shakespeare.txt\")\n",
    "data_creator = SGNSDataCreator(text_path, window_size=3, threshold=4)\n",
    "dataset = data_creator.get_training_data()\n",
    "\n",
    "batch_size = len(dataset)\n",
    "dataloader = DataLoader(dataset, batch_size=batch_size, shuffle=True)"
   ]
  },
  {
   "cell_type": "markdown",
   "metadata": {},
   "source": [
    "### SGNSModel\n",
    "\n",
    "Add layers to the model and make the forward function."
   ]
  },
  {
   "cell_type": "code",
   "execution_count": null,
   "metadata": {},
   "outputs": [],
   "source": [
    "import torch.nn as nn\n",
    "\n",
    "class SGNSModel(nn.Module):\n",
    "    def __init__(self, vocab_size, embedding_dim):\n",
    "        super(SGNSModel, self).__init__()\n",
    "        vocab_size = vocab_size\n",
    "\n",
    "    def forward(self, target_ids, context_ids):\n",
    "        pass\n",
    "\n",
    "        # return hidden\n"
   ]
  },
  {
   "cell_type": "markdown",
   "metadata": {},
   "source": [
    "### Training\n",
    "\n",
    "Write the training loop for the model."
   ]
  },
  {
   "cell_type": "code",
   "execution_count": null,
   "metadata": {},
   "outputs": [],
   "source": [
    "embedding_dim = 10\n",
    "\n",
    "model = SGNSModel(\n",
    "    vocab_size=data_creator.get_vocab_size(), \n",
    "    embedding_dim=embedding_dim\n",
    "    )\n"
   ]
  },
  {
   "cell_type": "markdown",
   "metadata": {},
   "source": [
    "### Results\n",
    "\n",
    "Visualize some results."
   ]
  },
  {
   "cell_type": "code",
   "execution_count": 5,
   "metadata": {},
   "outputs": [],
   "source": [
    "def plot_similarities(vectors):\n",
    "    pass"
   ]
  }
 ],
 "metadata": {
  "kernelspec": {
   "display_name": "Python 3",
   "language": "python",
   "name": "python3"
  },
  "language_info": {
   "codemirror_mode": {
    "name": "ipython",
    "version": 3
   },
   "file_extension": ".py",
   "mimetype": "text/x-python",
   "name": "python",
   "nbconvert_exporter": "python",
   "pygments_lexer": "ipython3",
   "version": "3.10.12"
  }
 },
 "nbformat": 4,
 "nbformat_minor": 2
}
